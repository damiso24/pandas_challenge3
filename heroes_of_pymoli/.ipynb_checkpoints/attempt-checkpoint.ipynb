{
 "cells": [
  {
   "cell_type": "code",
   "execution_count": 26,
   "metadata": {},
   "outputs": [
    {
     "name": "stdout",
     "output_type": "stream",
     "text": [
      "   Purchase ID             SN  Age Gender  Item ID  \\\n",
      "0            0        Lisim78   20   Male      108   \n",
      "1            1    Lisovynya38   40   Male      143   \n",
      "2            2     Ithergue48   24   Male       92   \n",
      "3            3  Chamassasya86   24   Male      100   \n",
      "4            4      Iskosia90   23   Male      131   \n",
      "\n",
      "                                   Item Name  Price  \n",
      "0  Extraction, Quickblade Of Trembling Hands   3.53  \n",
      "1                          Frenzied Scimitar   1.56  \n",
      "2                               Final Critic   4.88  \n",
      "3                                Blindscythe   3.27  \n",
      "4                                       Fury   1.44  \n"
     ]
    }
   ],
   "source": [
    "import pandas as pd\n",
    "import os\n",
    "import csv\n",
    "import re\n",
    "%config Completer.use_jedi = False\n",
    "\n",
    "filepath = \"Resources/purchase_data.csv\"\n",
    "\n",
    "myreader = pd.read_csv(filepath)\n",
    "\n",
    "print (myreader.head(5))\n"
   ]
  },
  {
   "cell_type": "markdown",
   "metadata": {},
   "source": [
    "# Player Count\n",
    "- Total Number of Players = total_players"
   ]
  },
  {
   "cell_type": "code",
   "execution_count": 27,
   "metadata": {},
   "outputs": [
    {
     "data": {
      "text/html": [
       "<div>\n",
       "<style scoped>\n",
       "    .dataframe tbody tr th:only-of-type {\n",
       "        vertical-align: middle;\n",
       "    }\n",
       "\n",
       "    .dataframe tbody tr th {\n",
       "        vertical-align: top;\n",
       "    }\n",
       "\n",
       "    .dataframe thead th {\n",
       "        text-align: right;\n",
       "    }\n",
       "</style>\n",
       "<table border=\"1\" class=\"dataframe\">\n",
       "  <thead>\n",
       "    <tr style=\"text-align: right;\">\n",
       "      <th></th>\n",
       "      <th>Total Players</th>\n",
       "    </tr>\n",
       "  </thead>\n",
       "  <tbody>\n",
       "    <tr>\n",
       "      <th>0</th>\n",
       "      <td>576</td>\n",
       "    </tr>\n",
       "  </tbody>\n",
       "</table>\n",
       "</div>"
      ],
      "text/plain": [
       "   Total Players\n",
       "0            576"
      ]
     },
     "execution_count": 27,
     "metadata": {},
     "output_type": "execute_result"
    }
   ],
   "source": [
    "# Calulates the total amount of uniqe players by removing the duplicates in the \"SN\" column\n",
    "total_rows = len(myreader) # lets me know how long the original is so I can compare it to others (ex, duplicates)\n",
    "total_count_players = myreader.drop_duplicates('SN', keep='last')\n",
    "total_count_players # this is a list \n",
    "total_players = len(total_count_players)\n",
    "total_players #this is the length of that list represented as a #.  see output\n",
    "df_total_players=pd.DataFrame({'Total Players': [total_players]})\n",
    "df_total_players\n",
    "\n"
   ]
  },
  {
   "cell_type": "markdown",
   "metadata": {},
   "source": [
    "# Purchasing Analysis\n",
    "- Number of Unique Items\n",
    "\n",
    "- Average Purchase Price\n",
    "\n",
    "- Total Number of Purchases\n",
    "\n",
    "- Total Revenue"
   ]
  },
  {
   "cell_type": "code",
   "execution_count": 28,
   "metadata": {},
   "outputs": [
    {
     "data": {
      "text/plain": [
       "179"
      ]
     },
     "execution_count": 28,
     "metadata": {},
     "output_type": "execute_result"
    }
   ],
   "source": [
    "# Number of unique items is calculated by removing the duplicates in the \"Item ID\" column then getting length\n",
    "total_count_item_id = myreader.drop_duplicates('Item ID', keep='last')\n",
    "total_count_item_id # this is a list\n",
    "total_unique_items = len(total_count_item_id)\n",
    "total_unique_items #this is the length of that list represented as a #.  see output.\n"
   ]
  },
  {
   "cell_type": "code",
   "execution_count": 29,
   "metadata": {},
   "outputs": [
    {
     "name": "stdout",
     "output_type": "stream",
     "text": [
      "3.05\n"
     ]
    }
   ],
   "source": [
    "# Average purchase price is calculated by getting the avg of the Price column of the original dataset\n",
    "average_purchase_price = myreader[\"Price\"].mean()\n",
    "average_purchase_price\n",
    "print (\"{:.2f}\".format(average_purchase_price))\n"
   ]
  },
  {
   "cell_type": "code",
   "execution_count": 30,
   "metadata": {},
   "outputs": [
    {
     "data": {
      "text/plain": [
       "780"
      ]
     },
     "execution_count": 30,
     "metadata": {},
     "output_type": "execute_result"
    }
   ],
   "source": [
    "# Total Number of Purchases is calculated by getting the lenght of [Price] of my original dataset\n",
    "total_count_purchases = len(myreader[\"Price\"])\n",
    "total_count_purchases"
   ]
  },
  {
   "cell_type": "code",
   "execution_count": 31,
   "metadata": {},
   "outputs": [
    {
     "data": {
      "text/plain": [
       "2379.77"
      ]
     },
     "execution_count": 31,
     "metadata": {},
     "output_type": "execute_result"
    }
   ],
   "source": [
    "# Total revenue is calculated by summing row \"Price\"\n",
    "total_revenue = myreader[\"Price\"].sum() \n",
    "total_revenue  \n"
   ]
  },
  {
   "cell_type": "code",
   "execution_count": 32,
   "metadata": {},
   "outputs": [
    {
     "data": {
      "text/html": [
       "<style  type=\"text/css\" >\n",
       "</style><table id=\"T_9d697cf0_9d79_11eb_8949_f079601085ae\" ><thead>    <tr>        <th class=\"blank level0\" ></th>        <th class=\"col_heading level0 col0\" >Total Unique Items</th>        <th class=\"col_heading level0 col1\" >Avg. Purchase Price</th>        <th class=\"col_heading level0 col2\" >Number of Purchases</th>        <th class=\"col_heading level0 col3\" >Total Revenue</th>    </tr></thead><tbody>\n",
       "                <tr>\n",
       "                        <th id=\"T_9d697cf0_9d79_11eb_8949_f079601085aelevel0_row0\" class=\"row_heading level0 row0\" >0</th>\n",
       "                        <td id=\"T_9d697cf0_9d79_11eb_8949_f079601085aerow0_col0\" class=\"data row0 col0\" >179</td>\n",
       "                        <td id=\"T_9d697cf0_9d79_11eb_8949_f079601085aerow0_col1\" class=\"data row0 col1\" >$3.05</td>\n",
       "                        <td id=\"T_9d697cf0_9d79_11eb_8949_f079601085aerow0_col2\" class=\"data row0 col2\" >780</td>\n",
       "                        <td id=\"T_9d697cf0_9d79_11eb_8949_f079601085aerow0_col3\" class=\"data row0 col3\" >$2,379.77</td>\n",
       "            </tr>\n",
       "    </tbody></table>"
      ],
      "text/plain": [
       "<pandas.io.formats.style.Styler at 0x7fe2d81b2320>"
      ]
     },
     "execution_count": 32,
     "metadata": {},
     "output_type": "execute_result"
    }
   ],
   "source": [
    "df_purchase_analysis_summary = pd.DataFrame({'Total Unique Items': [total_unique_items], \n",
    "                            'Avg. Purchase Price': [average_purchase_price],\n",
    "                            'Number of Purchases' : [total_count_purchases],\n",
    "                            'Total Revenue' : [total_revenue]})\n",
    "df_purchase_analysis_summary = df_purchase_analysis_summary.style.format({'Avg. Purchase Price':'${:,.2f}',\n",
    "                                                                         'Total Revenue' : '${:,.2f}'\n",
    "                                                                         })\n",
    "\n",
    "df_purchase_analysis_summary "
   ]
  },
  {
   "cell_type": "markdown",
   "metadata": {},
   "source": [
    "# Gender Demographics\n",
    "-Percentage and Count of Males\n",
    "\n",
    "-Percentage and Count of Females\n",
    "\n",
    "-Percentage and Count of Others\n"
   ]
  },
  {
   "cell_type": "code",
   "execution_count": 33,
   "metadata": {},
   "outputs": [
    {
     "name": "stdout",
     "output_type": "stream",
     "text": [
      "84.03\n"
     ]
    }
   ],
   "source": [
    "# Calculates the total count of males in my dataset.  This was done after I removed all of the duplicate SN.\n",
    "## total_count_players is a list of all the unique players.  See Player Count header \n",
    "total_count_players.loc[(total_count_players['Gender'] == 'Male')]\n",
    "filtered_males = total_count_players.loc[(total_count_players['Gender'] == 'Male')] \n",
    "# print (filtered_males) #this is list \n",
    "total_males = len(filtered_males)\n",
    "total_males #this is the length of that list represented as a #.  \n",
    "percentage_males = (total_males/total_players)*100\n",
    "percentage_males\n",
    "print (\"{:.2f}\".format(percentage_males))"
   ]
  },
  {
   "cell_type": "code",
   "execution_count": 34,
   "metadata": {},
   "outputs": [
    {
     "name": "stdout",
     "output_type": "stream",
     "text": [
      "14.06\n"
     ]
    }
   ],
   "source": [
    "total_count_players.loc[total_count_players['Gender'] == 'Female']\n",
    "filtered_females = total_count_players.loc[myreader['Gender'] == 'Female']\n",
    "# print (filtered_females)\n",
    "total_females = len(filtered_females)\n",
    "total_females\n",
    "percentage_females = (total_females/total_players)*100\n",
    "percentage_females\n",
    "print (\"{:.2f}\".format(percentage_females))"
   ]
  },
  {
   "cell_type": "code",
   "execution_count": 41,
   "metadata": {},
   "outputs": [
    {
     "name": "stdout",
     "output_type": "stream",
     "text": [
      "1.91\n"
     ]
    }
   ],
   "source": [
    "total_count_players.loc[~total_count_players['Gender'].str.contains('Male|Female', regex=True)]\n",
    "filtered_others = total_count_players.loc[~total_count_players['Gender'].str.contains('Male|Female', regex=True)]\n",
    "# print (filtered_other)\n",
    "total_others = len(filtered_others)\n",
    "total_others\n",
    "percentage_other = (total_other/total_players)*100\n",
    "percentage_other\n",
    "print (\"{:.2f}\".format(percentage_other))\n"
   ]
  },
  {
   "cell_type": "markdown",
   "metadata": {},
   "source": [
    "# Purchase Analysis (Gender)\n",
    "- Purchase Count Male and Female\n",
    "- Average Purchase Price Male and Female\n",
    "- Total Purchase Value\n",
    "- Average Purchase Total per Person by Gender \n"
   ]
  },
  {
   "cell_type": "markdown",
   "metadata": {},
   "source": [
    "#### Purchase Count"
   ]
  },
  {
   "cell_type": "code",
   "execution_count": 42,
   "metadata": {},
   "outputs": [
    {
     "data": {
      "text/plain": [
       "484"
      ]
     },
     "execution_count": 42,
     "metadata": {},
     "output_type": "execute_result"
    }
   ],
   "source": [
    "# Total count of males that made a purchase based on filtered data (no duplicates)\n",
    "total_males"
   ]
  },
  {
   "cell_type": "code",
   "execution_count": 43,
   "metadata": {},
   "outputs": [
    {
     "data": {
      "text/plain": [
       "81"
      ]
     },
     "execution_count": 43,
     "metadata": {},
     "output_type": "execute_result"
    }
   ],
   "source": [
    "# Total count of females that made a purchase based on filtered data (no duplicates)\n",
    "total_females\n"
   ]
  },
  {
   "cell_type": "code",
   "execution_count": 44,
   "metadata": {},
   "outputs": [
    {
     "data": {
      "text/plain": [
       "11"
      ]
     },
     "execution_count": 44,
     "metadata": {},
     "output_type": "execute_result"
    }
   ],
   "source": [
    "# Total count of others that made a purchase based on filtered data (no duplicates)\n",
    "total_others"
   ]
  },
  {
   "cell_type": "markdown",
   "metadata": {},
   "source": [
    "#### Average Purchase Price"
   ]
  },
  {
   "cell_type": "code",
   "execution_count": 45,
   "metadata": {},
   "outputs": [
    {
     "data": {
      "text/plain": [
       "2.97603305785124"
      ]
     },
     "execution_count": 45,
     "metadata": {},
     "output_type": "execute_result"
    }
   ],
   "source": [
    "average_male_purchase_price = filtered_males[\"Price\"].mean()\n",
    "average_male_purchase_price\n"
   ]
  },
  {
   "cell_type": "code",
   "execution_count": 46,
   "metadata": {},
   "outputs": [
    {
     "data": {
      "text/plain": [
       "3.251358024691359"
      ]
     },
     "execution_count": 46,
     "metadata": {},
     "output_type": "execute_result"
    }
   ],
   "source": [
    "average_female_purchase_price = filtered_females[\"Price\"].mean()\n",
    "average_female_purchase_price"
   ]
  },
  {
   "cell_type": "code",
   "execution_count": 49,
   "metadata": {},
   "outputs": [
    {
     "data": {
      "text/plain": [
       "3.286363636363637"
      ]
     },
     "execution_count": 49,
     "metadata": {},
     "output_type": "execute_result"
    }
   ],
   "source": [
    "average_other_purchase_price = filtered_others[\"Price\"].mean()\n",
    "average_other_purchase_price"
   ]
  },
  {
   "cell_type": "code",
   "execution_count": 73,
   "metadata": {},
   "outputs": [
    {
     "data": {
      "text/plain": [
       "1967.64"
      ]
     },
     "execution_count": 73,
     "metadata": {},
     "output_type": "execute_result"
    }
   ],
   "source": [
    "# Total purchase value made by gender including multi SN.  All calcs based on original dataset.\n",
    "myreader_males = myreader.loc[(myreader['Gender'] == 'Male')]\n",
    "myreader_males\n",
    "\n",
    "total_purchase_males = myreader_males[\"Price\"].sum()\n",
    "total_purchase_males\n"
   ]
  },
  {
   "cell_type": "code",
   "execution_count": 72,
   "metadata": {},
   "outputs": [
    {
     "data": {
      "text/plain": [
       "361.94"
      ]
     },
     "execution_count": 72,
     "metadata": {},
     "output_type": "execute_result"
    }
   ],
   "source": [
    "myreader_females = myreader.loc[(myreader['Gender'] == 'Female')]\n",
    "myreader_females\n",
    "\n",
    "total_purchase_females = myreader_females[\"Price\"].sum()\n",
    "total_purchase_females\n"
   ]
  },
  {
   "cell_type": "code",
   "execution_count": 71,
   "metadata": {},
   "outputs": [
    {
     "data": {
      "text/plain": [
       "50.19"
      ]
     },
     "execution_count": 71,
     "metadata": {},
     "output_type": "execute_result"
    }
   ],
   "source": [
    "myreader_others = myreader.loc[~myreader['Gender'].str.contains('Male|Female', regex=True)]\n",
    "myreader_others\n",
    "\n",
    "total_purchase_others = myreader_others[\"Price\"].sum()\n",
    "total_purchase_others\n"
   ]
  },
  {
   "cell_type": "markdown",
   "metadata": {},
   "source": [
    "##### Average Purchase Totals"
   ]
  },
  {
   "cell_type": "code",
   "execution_count": 67,
   "metadata": {},
   "outputs": [
    {
     "data": {
      "text/plain": [
       "4.065371900826446"
      ]
     },
     "execution_count": 67,
     "metadata": {},
     "output_type": "execute_result"
    }
   ],
   "source": [
    "myreader_males_average_price = total_purchase_males / len(filtered_males)\n",
    "myreader_males_average_price\n"
   ]
  },
  {
   "cell_type": "code",
   "execution_count": 68,
   "metadata": {},
   "outputs": [
    {
     "data": {
      "text/plain": [
       "4.468395061728395"
      ]
     },
     "execution_count": 68,
     "metadata": {},
     "output_type": "execute_result"
    }
   ],
   "source": [
    "myreader_females_average_price = total_purchase_females / len(filtered_females)\n",
    "myreader_females_average_price"
   ]
  },
  {
   "cell_type": "code",
   "execution_count": 69,
   "metadata": {},
   "outputs": [
    {
     "data": {
      "text/plain": [
       "4.5627272727272725"
      ]
     },
     "execution_count": 69,
     "metadata": {},
     "output_type": "execute_result"
    }
   ],
   "source": [
    "myreader_others_average_price = total_purchase_others / len(filtered_others)\n",
    "myreader_others_average_price"
   ]
  },
  {
   "cell_type": "markdown",
   "metadata": {},
   "source": [
    "##### Summary Data Frame"
   ]
  },
  {
   "cell_type": "code",
   "execution_count": 70,
   "metadata": {},
   "outputs": [
    {
     "data": {
      "text/html": [
       "<style  type=\"text/css\" >\n",
       "</style><table id=\"T_7f762798_9d7b_11eb_bf66_f079601085ae\" ><thead>    <tr>        <th class=\"blank level0\" ></th>        <th class=\"col_heading level0 col0\" >Purchase Count</th>        <th class=\"col_heading level0 col1\" >Average Purchase Price</th>        <th class=\"col_heading level0 col2\" >Total Purchase Value</th>        <th class=\"col_heading level0 col3\" >Average Total Purchase Per Person</th>    </tr></thead><tbody>\n",
       "                <tr>\n",
       "                        <th id=\"T_7f762798_9d7b_11eb_bf66_f079601085aelevel0_row0\" class=\"row_heading level0 row0\" >Male</th>\n",
       "                        <td id=\"T_7f762798_9d7b_11eb_bf66_f079601085aerow0_col0\" class=\"data row0 col0\" >652</td>\n",
       "                        <td id=\"T_7f762798_9d7b_11eb_bf66_f079601085aerow0_col1\" class=\"data row0 col1\" >$2.98</td>\n",
       "                        <td id=\"T_7f762798_9d7b_11eb_bf66_f079601085aerow0_col2\" class=\"data row0 col2\" >$1,967.64</td>\n",
       "                        <td id=\"T_7f762798_9d7b_11eb_bf66_f079601085aerow0_col3\" class=\"data row0 col3\" >$4.07</td>\n",
       "            </tr>\n",
       "            <tr>\n",
       "                        <th id=\"T_7f762798_9d7b_11eb_bf66_f079601085aelevel0_row1\" class=\"row_heading level0 row1\" >Female</th>\n",
       "                        <td id=\"T_7f762798_9d7b_11eb_bf66_f079601085aerow1_col0\" class=\"data row1 col0\" >113</td>\n",
       "                        <td id=\"T_7f762798_9d7b_11eb_bf66_f079601085aerow1_col1\" class=\"data row1 col1\" >$3.25</td>\n",
       "                        <td id=\"T_7f762798_9d7b_11eb_bf66_f079601085aerow1_col2\" class=\"data row1 col2\" >$361.94</td>\n",
       "                        <td id=\"T_7f762798_9d7b_11eb_bf66_f079601085aerow1_col3\" class=\"data row1 col3\" >$4.47</td>\n",
       "            </tr>\n",
       "            <tr>\n",
       "                        <th id=\"T_7f762798_9d7b_11eb_bf66_f079601085aelevel0_row2\" class=\"row_heading level0 row2\" >Other</th>\n",
       "                        <td id=\"T_7f762798_9d7b_11eb_bf66_f079601085aerow2_col0\" class=\"data row2 col0\" >15</td>\n",
       "                        <td id=\"T_7f762798_9d7b_11eb_bf66_f079601085aerow2_col1\" class=\"data row2 col1\" >$3.29</td>\n",
       "                        <td id=\"T_7f762798_9d7b_11eb_bf66_f079601085aerow2_col2\" class=\"data row2 col2\" >$50.19</td>\n",
       "                        <td id=\"T_7f762798_9d7b_11eb_bf66_f079601085aerow2_col3\" class=\"data row2 col3\" >$4.56</td>\n",
       "            </tr>\n",
       "    </tbody></table>"
      ],
      "text/plain": [
       "<pandas.io.formats.style.Styler at 0x7fe2d81d16d8>"
      ]
     },
     "execution_count": 70,
     "metadata": {},
     "output_type": "execute_result"
    }
   ],
   "source": [
    "df_purchasing_analysis_by_gender=pd.DataFrame({\n",
    "    'Purchase Count': [len(myreader_males),len(myreader_females),len(myreader_others)],\n",
    "    'Average Purchase Price': [average_male_purchase_price,average_female_purchase_price,average_other_purchase_price],\n",
    "    'Total Purchase Value': [total_purchase_males,total_purchase_females,total_purchase_others],\n",
    "    'Average Total Purchase Per Person': [myreader_males_average_price, myreader_females_average_price, myreader_others_average_price]\n",
    "}, columns=['Purchase Count', 'Average Purchase Price', 'Total Purchase Value','Average Total Purchase Per Person'])\n",
    "df_purchasing_analysis_by_gender.index = ['Male', 'Female', 'Other']\n",
    "\n",
    "#Format columns appropriately\n",
    "df_purchasing_analysis_by_gender = df_purchasing_analysis_by_gender.style.format({\n",
    "    'Average Purchase Price':'${0:,.2f}',\n",
    "    'Total Purchase Value':'${0:,.2f}',\n",
    "    'Average Total Purchase Per Person':'${0:,.2f}'\n",
    "})\n",
    "df_purchasing_analysis_by_gender"
   ]
  },
  {
   "cell_type": "markdown",
   "metadata": {},
   "source": [
    "## Age Demographics\n",
    "- Establish bins for ages\n",
    "- Categorize the existing players using the age bins. Hint: use pd.cut()\n",
    "- Calculate the numbers and percentages by age group\n",
    "- Create a summary data frame to hold the results Optional: round the percentage column to two decimal points Display Age Demographics Table"
   ]
  },
  {
   "cell_type": "code",
   "execution_count": 78,
   "metadata": {},
   "outputs": [
    {
     "data": {
      "text/html": [
       "<div>\n",
       "<style scoped>\n",
       "    .dataframe tbody tr th:only-of-type {\n",
       "        vertical-align: middle;\n",
       "    }\n",
       "\n",
       "    .dataframe tbody tr th {\n",
       "        vertical-align: top;\n",
       "    }\n",
       "\n",
       "    .dataframe thead th {\n",
       "        text-align: right;\n",
       "    }\n",
       "</style>\n",
       "<table border=\"1\" class=\"dataframe\">\n",
       "  <thead>\n",
       "    <tr style=\"text-align: right;\">\n",
       "      <th></th>\n",
       "      <th>Purchase ID</th>\n",
       "      <th>SN</th>\n",
       "      <th>Age</th>\n",
       "      <th>Gender</th>\n",
       "      <th>Item ID</th>\n",
       "      <th>Item Name</th>\n",
       "      <th>Price</th>\n",
       "      <th>Age Group</th>\n",
       "    </tr>\n",
       "  </thead>\n",
       "  <tbody>\n",
       "    <tr>\n",
       "      <th>1</th>\n",
       "      <td>1</td>\n",
       "      <td>Lisovynya38</td>\n",
       "      <td>40</td>\n",
       "      <td>Male</td>\n",
       "      <td>143</td>\n",
       "      <td>Frenzied Scimitar</td>\n",
       "      <td>1.56</td>\n",
       "      <td>40+</td>\n",
       "    </tr>\n",
       "    <tr>\n",
       "      <th>2</th>\n",
       "      <td>2</td>\n",
       "      <td>Ithergue48</td>\n",
       "      <td>24</td>\n",
       "      <td>Male</td>\n",
       "      <td>92</td>\n",
       "      <td>Final Critic</td>\n",
       "      <td>4.88</td>\n",
       "      <td>20-24</td>\n",
       "    </tr>\n",
       "    <tr>\n",
       "      <th>3</th>\n",
       "      <td>3</td>\n",
       "      <td>Chamassasya86</td>\n",
       "      <td>24</td>\n",
       "      <td>Male</td>\n",
       "      <td>100</td>\n",
       "      <td>Blindscythe</td>\n",
       "      <td>3.27</td>\n",
       "      <td>20-24</td>\n",
       "    </tr>\n",
       "    <tr>\n",
       "      <th>4</th>\n",
       "      <td>4</td>\n",
       "      <td>Iskosia90</td>\n",
       "      <td>23</td>\n",
       "      <td>Male</td>\n",
       "      <td>131</td>\n",
       "      <td>Fury</td>\n",
       "      <td>1.44</td>\n",
       "      <td>20-24</td>\n",
       "    </tr>\n",
       "    <tr>\n",
       "      <th>6</th>\n",
       "      <td>6</td>\n",
       "      <td>Itheria73</td>\n",
       "      <td>36</td>\n",
       "      <td>Male</td>\n",
       "      <td>169</td>\n",
       "      <td>Interrogator, Blood Blade of the Queen</td>\n",
       "      <td>2.18</td>\n",
       "      <td>35-39</td>\n",
       "    </tr>\n",
       "    <tr>\n",
       "      <th>...</th>\n",
       "      <td>...</td>\n",
       "      <td>...</td>\n",
       "      <td>...</td>\n",
       "      <td>...</td>\n",
       "      <td>...</td>\n",
       "      <td>...</td>\n",
       "      <td>...</td>\n",
       "      <td>...</td>\n",
       "    </tr>\n",
       "    <tr>\n",
       "      <th>775</th>\n",
       "      <td>775</td>\n",
       "      <td>Aethedru70</td>\n",
       "      <td>21</td>\n",
       "      <td>Female</td>\n",
       "      <td>60</td>\n",
       "      <td>Wolf</td>\n",
       "      <td>3.54</td>\n",
       "      <td>20-24</td>\n",
       "    </tr>\n",
       "    <tr>\n",
       "      <th>776</th>\n",
       "      <td>776</td>\n",
       "      <td>Iral74</td>\n",
       "      <td>21</td>\n",
       "      <td>Male</td>\n",
       "      <td>164</td>\n",
       "      <td>Exiled Doomblade</td>\n",
       "      <td>1.63</td>\n",
       "      <td>20-24</td>\n",
       "    </tr>\n",
       "    <tr>\n",
       "      <th>777</th>\n",
       "      <td>777</td>\n",
       "      <td>Yathecal72</td>\n",
       "      <td>20</td>\n",
       "      <td>Male</td>\n",
       "      <td>67</td>\n",
       "      <td>Celeste, Incarnation of the Corrupted</td>\n",
       "      <td>3.46</td>\n",
       "      <td>20-24</td>\n",
       "    </tr>\n",
       "    <tr>\n",
       "      <th>778</th>\n",
       "      <td>778</td>\n",
       "      <td>Sisur91</td>\n",
       "      <td>7</td>\n",
       "      <td>Male</td>\n",
       "      <td>92</td>\n",
       "      <td>Final Critic</td>\n",
       "      <td>4.19</td>\n",
       "      <td>&lt;10</td>\n",
       "    </tr>\n",
       "    <tr>\n",
       "      <th>779</th>\n",
       "      <td>779</td>\n",
       "      <td>Ennrian78</td>\n",
       "      <td>24</td>\n",
       "      <td>Male</td>\n",
       "      <td>50</td>\n",
       "      <td>Dawn</td>\n",
       "      <td>4.60</td>\n",
       "      <td>20-24</td>\n",
       "    </tr>\n",
       "  </tbody>\n",
       "</table>\n",
       "<p>576 rows × 8 columns</p>\n",
       "</div>"
      ],
      "text/plain": [
       "     Purchase ID             SN  Age  Gender  Item ID  \\\n",
       "1              1    Lisovynya38   40    Male      143   \n",
       "2              2     Ithergue48   24    Male       92   \n",
       "3              3  Chamassasya86   24    Male      100   \n",
       "4              4      Iskosia90   23    Male      131   \n",
       "6              6      Itheria73   36    Male      169   \n",
       "..           ...            ...  ...     ...      ...   \n",
       "775          775     Aethedru70   21  Female       60   \n",
       "776          776         Iral74   21    Male      164   \n",
       "777          777     Yathecal72   20    Male       67   \n",
       "778          778        Sisur91    7    Male       92   \n",
       "779          779      Ennrian78   24    Male       50   \n",
       "\n",
       "                                  Item Name  Price Age Group  \n",
       "1                         Frenzied Scimitar   1.56       40+  \n",
       "2                              Final Critic   4.88     20-24  \n",
       "3                               Blindscythe   3.27     20-24  \n",
       "4                                      Fury   1.44     20-24  \n",
       "6    Interrogator, Blood Blade of the Queen   2.18     35-39  \n",
       "..                                      ...    ...       ...  \n",
       "775                                    Wolf   3.54     20-24  \n",
       "776                        Exiled Doomblade   1.63     20-24  \n",
       "777   Celeste, Incarnation of the Corrupted   3.46     20-24  \n",
       "778                            Final Critic   4.19       <10  \n",
       "779                                    Dawn   4.60     20-24  \n",
       "\n",
       "[576 rows x 8 columns]"
      ]
     },
     "execution_count": 78,
     "metadata": {},
     "output_type": "execute_result"
    }
   ],
   "source": [
    "# Establish bins for ages\n",
    "bins = [0,9,14,19,24,29,34,39, 130]\n",
    "labels = ['<10', '10-14', '15-19', '20-24', '25-29', '30-34', '35-39', '40+']\n",
    "\n",
    "# myreader.head\n",
    "\n",
    "player_age_groups = pd.cut(total_count_players.Age,bins=bins,labels=labels)\n",
    "\n",
    "pd.DataFrame(total_count_players)['Age Group'] = player_age_groups\n",
    "\n",
    "total_count_players\n"
   ]
  },
  {
   "cell_type": "code",
   "execution_count": 87,
   "metadata": {},
   "outputs": [
    {
     "ename": "ValueError",
     "evalue": "Length mismatch: Expected axis has 7 elements, new values have 8 elements",
     "output_type": "error",
     "traceback": [
      "\u001b[0;31m---------------------------------------------------------------------------\u001b[0m",
      "\u001b[0;31mValueError\u001b[0m                                Traceback (most recent call last)",
      "\u001b[0;32m<ipython-input-87-68d3b2f5cfdd>\u001b[0m in \u001b[0;36m<module>\u001b[0;34m\u001b[0m\n\u001b[1;32m     46\u001b[0m    \u001b[0;34m'Percentage of Players'\u001b[0m\u001b[0;34m:\u001b[0m \u001b[0mage_group_count_percentage\u001b[0m\u001b[0;34m\u001b[0m\u001b[0;34m\u001b[0m\u001b[0m\n\u001b[1;32m     47\u001b[0m })\n\u001b[0;32m---> 48\u001b[0;31m \u001b[0mdf_age_demographics\u001b[0m\u001b[0;34m.\u001b[0m\u001b[0mindex\u001b[0m \u001b[0;34m=\u001b[0m \u001b[0mlabels\u001b[0m\u001b[0;34m\u001b[0m\u001b[0;34m\u001b[0m\u001b[0m\n\u001b[0m\u001b[1;32m     49\u001b[0m df_age_demographics = df_age_demographics.style.format({\n\u001b[1;32m     50\u001b[0m    \u001b[0;34m'Total Count'\u001b[0m\u001b[0;34m:\u001b[0m\u001b[0;34m'{0:,.0f}'\u001b[0m\u001b[0;34m,\u001b[0m\u001b[0;34m\u001b[0m\u001b[0;34m\u001b[0m\u001b[0m\n",
      "\u001b[0;32m~/opt/anaconda3/envs/PythonData/lib/python3.6/site-packages/pandas/core/generic.py\u001b[0m in \u001b[0;36m__setattr__\u001b[0;34m(self, name, value)\u001b[0m\n\u001b[1;32m   5285\u001b[0m         \u001b[0;32mtry\u001b[0m\u001b[0;34m:\u001b[0m\u001b[0;34m\u001b[0m\u001b[0;34m\u001b[0m\u001b[0m\n\u001b[1;32m   5286\u001b[0m             \u001b[0mobject\u001b[0m\u001b[0;34m.\u001b[0m\u001b[0m__getattribute__\u001b[0m\u001b[0;34m(\u001b[0m\u001b[0mself\u001b[0m\u001b[0;34m,\u001b[0m \u001b[0mname\u001b[0m\u001b[0;34m)\u001b[0m\u001b[0;34m\u001b[0m\u001b[0;34m\u001b[0m\u001b[0m\n\u001b[0;32m-> 5287\u001b[0;31m             \u001b[0;32mreturn\u001b[0m \u001b[0mobject\u001b[0m\u001b[0;34m.\u001b[0m\u001b[0m__setattr__\u001b[0m\u001b[0;34m(\u001b[0m\u001b[0mself\u001b[0m\u001b[0;34m,\u001b[0m \u001b[0mname\u001b[0m\u001b[0;34m,\u001b[0m \u001b[0mvalue\u001b[0m\u001b[0;34m)\u001b[0m\u001b[0;34m\u001b[0m\u001b[0;34m\u001b[0m\u001b[0m\n\u001b[0m\u001b[1;32m   5288\u001b[0m         \u001b[0;32mexcept\u001b[0m \u001b[0mAttributeError\u001b[0m\u001b[0;34m:\u001b[0m\u001b[0;34m\u001b[0m\u001b[0;34m\u001b[0m\u001b[0m\n\u001b[1;32m   5289\u001b[0m             \u001b[0;32mpass\u001b[0m\u001b[0;34m\u001b[0m\u001b[0;34m\u001b[0m\u001b[0m\n",
      "\u001b[0;32mpandas/_libs/properties.pyx\u001b[0m in \u001b[0;36mpandas._libs.properties.AxisProperty.__set__\u001b[0;34m()\u001b[0m\n",
      "\u001b[0;32m~/opt/anaconda3/envs/PythonData/lib/python3.6/site-packages/pandas/core/generic.py\u001b[0m in \u001b[0;36m_set_axis\u001b[0;34m(self, axis, labels)\u001b[0m\n\u001b[1;32m    659\u001b[0m \u001b[0;34m\u001b[0m\u001b[0m\n\u001b[1;32m    660\u001b[0m     \u001b[0;32mdef\u001b[0m \u001b[0m_set_axis\u001b[0m\u001b[0;34m(\u001b[0m\u001b[0mself\u001b[0m\u001b[0;34m,\u001b[0m \u001b[0maxis\u001b[0m\u001b[0;34m,\u001b[0m \u001b[0mlabels\u001b[0m\u001b[0;34m)\u001b[0m \u001b[0;34m->\u001b[0m \u001b[0;32mNone\u001b[0m\u001b[0;34m:\u001b[0m\u001b[0;34m\u001b[0m\u001b[0;34m\u001b[0m\u001b[0m\n\u001b[0;32m--> 661\u001b[0;31m         \u001b[0mself\u001b[0m\u001b[0;34m.\u001b[0m\u001b[0m_data\u001b[0m\u001b[0;34m.\u001b[0m\u001b[0mset_axis\u001b[0m\u001b[0;34m(\u001b[0m\u001b[0maxis\u001b[0m\u001b[0;34m,\u001b[0m \u001b[0mlabels\u001b[0m\u001b[0;34m)\u001b[0m\u001b[0;34m\u001b[0m\u001b[0;34m\u001b[0m\u001b[0m\n\u001b[0m\u001b[1;32m    662\u001b[0m         \u001b[0mself\u001b[0m\u001b[0;34m.\u001b[0m\u001b[0m_clear_item_cache\u001b[0m\u001b[0;34m(\u001b[0m\u001b[0;34m)\u001b[0m\u001b[0;34m\u001b[0m\u001b[0;34m\u001b[0m\u001b[0m\n\u001b[1;32m    663\u001b[0m \u001b[0;34m\u001b[0m\u001b[0m\n",
      "\u001b[0;32m~/opt/anaconda3/envs/PythonData/lib/python3.6/site-packages/pandas/core/internals/managers.py\u001b[0m in \u001b[0;36mset_axis\u001b[0;34m(self, axis, new_labels)\u001b[0m\n\u001b[1;32m    176\u001b[0m         \u001b[0;32mif\u001b[0m \u001b[0mnew_len\u001b[0m \u001b[0;34m!=\u001b[0m \u001b[0mold_len\u001b[0m\u001b[0;34m:\u001b[0m\u001b[0;34m\u001b[0m\u001b[0;34m\u001b[0m\u001b[0m\n\u001b[1;32m    177\u001b[0m             raise ValueError(\n\u001b[0;32m--> 178\u001b[0;31m                 \u001b[0;34mf\"Length mismatch: Expected axis has {old_len} elements, new \"\u001b[0m\u001b[0;34m\u001b[0m\u001b[0;34m\u001b[0m\u001b[0m\n\u001b[0m\u001b[1;32m    179\u001b[0m                 \u001b[0;34mf\"values have {new_len} elements\"\u001b[0m\u001b[0;34m\u001b[0m\u001b[0;34m\u001b[0m\u001b[0m\n\u001b[1;32m    180\u001b[0m             )\n",
      "\u001b[0;31mValueError\u001b[0m: Length mismatch: Expected axis has 7 elements, new values have 8 elements"
     ]
    }
   ],
   "source": [
    "# bins = [0,9,14,19,24,29,34,39, 130]\n",
    "# labels = ['<10', '10-14', '15-19', '20-24', '25-29', '30-34', '35-39', '40+']\n",
    "\n",
    "# Filtered by Age Group.  Calculations based on unique player list (no dupl)\n",
    "range_under_10 = total_count_players.loc[total_count_players['Age Group'] == '<10']\n",
    "range_10_14 = total_count_players.loc[total_count_players['Age Group'] == '10-14']\n",
    "range_15_19 = total_count_players.loc[total_count_players['Age Group'] == '15-19']\n",
    "range_20_24 = total_count_players.loc[total_count_players['Age Group'] == '20-24']\n",
    "range_25_29 = total_count_players.loc[total_count_players['Age Group'] == '25-29']\n",
    "range_30_34 = total_count_players.loc[total_count_players['Age Group'] == '30-34']\n",
    "range_40 = total_count_players.loc[total_count_players['Age Group'] == '40+']\n",
    "\n",
    "# Percentages by Age Group.  \n",
    "percentage_under_10 =  len(range_under_10) / len(total_count_players) *100\n",
    "percentage_10_14 = len(range_10_14) / len(total_count_players) *100\n",
    "percentage_15_19 = len(range_15_19) / len(total_count_players) *100\n",
    "percentage_20_24 = len(range_20_24) / len(total_count_players) *100\n",
    "percentage_25_29 = len(range_25_29) / len(total_count_players) *100\n",
    "percentage_30_34 = len(range_30_34) / len(total_count_players) *100\n",
    "percentage_40 = len(range_40) / len(total_count_players) *100\n",
    "\n",
    "age_group_counts =[\n",
    "       len(range_under_10),\n",
    "       len(range_10_14),\n",
    "       len(range_15_19),\n",
    "       len(range_20_24),\n",
    "       len(range_25_29),\n",
    "       len(range_30_34),\n",
    "       len(range_40)]\n",
    "           \n",
    "age_group_counts\n",
    "\n",
    "age_group_count_percentage = [\n",
    "        percentage_under_10,\n",
    "        percentage_10_14,\n",
    "        percentage_15_19,\n",
    "        percentage_20_24,\n",
    "        percentage_25_29,\n",
    "        percentage_30_34,\n",
    "        percentage_40]\n",
    "age_group_count_percentage\n",
    "\n",
    "\n",
    "df_age_demographics=pd.DataFrame({\n",
    "   'Total Count': age_group_counts,\n",
    "   'Percentage of Players': age_group_count_percentage\n",
    "})\n",
    "df_age_demographics.index = labels\n",
    "df_age_demographics = df_age_demographics.style.format({\n",
    "   'Total Count':'{0:,.0f}',\n",
    "   'Percentage of Players':'{0:,.2f}%'\n",
    "})\n",
    "df_age_demographics\n",
    "\n"
   ]
  },
  {
   "cell_type": "code",
   "execution_count": null,
   "metadata": {},
   "outputs": [],
   "source": []
  },
  {
   "cell_type": "code",
   "execution_count": null,
   "metadata": {},
   "outputs": [],
   "source": []
  }
 ],
 "metadata": {
  "kernelspec": {
   "display_name": "Python [conda env:PythonData] *",
   "language": "python",
   "name": "conda-env-PythonData-py"
  },
  "language_info": {
   "codemirror_mode": {
    "name": "ipython",
    "version": 3
   },
   "file_extension": ".py",
   "mimetype": "text/x-python",
   "name": "python",
   "nbconvert_exporter": "python",
   "pygments_lexer": "ipython3",
   "version": "3.6.10"
  }
 },
 "nbformat": 4,
 "nbformat_minor": 4
}
