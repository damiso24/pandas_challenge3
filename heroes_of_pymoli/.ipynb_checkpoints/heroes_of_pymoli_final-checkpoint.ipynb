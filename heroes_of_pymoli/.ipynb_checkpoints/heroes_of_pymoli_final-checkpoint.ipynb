{
 "cells": [
  {
   "cell_type": "code",
   "execution_count": 1,
   "metadata": {
    "tags": []
   },
   "outputs": [
    {
     "name": "stdout",
     "output_type": "stream",
     "text": [
      "<bound method NDFrame.head of      Purchase ID             SN  Age  Gender  Item ID  \\\n",
      "0              0        Lisim78   20    Male      108   \n",
      "1              1    Lisovynya38   40    Male      143   \n",
      "2              2     Ithergue48   24    Male       92   \n",
      "3              3  Chamassasya86   24    Male      100   \n",
      "4              4      Iskosia90   23    Male      131   \n",
      "..           ...            ...  ...     ...      ...   \n",
      "775          775     Aethedru70   21  Female       60   \n",
      "776          776         Iral74   21    Male      164   \n",
      "777          777     Yathecal72   20    Male       67   \n",
      "778          778        Sisur91    7    Male       92   \n",
      "779          779      Ennrian78   24    Male       50   \n",
      "\n",
      "                                     Item Name  Price  \n",
      "0    Extraction, Quickblade Of Trembling Hands   3.53  \n",
      "1                            Frenzied Scimitar   1.56  \n",
      "2                                 Final Critic   4.88  \n",
      "3                                  Blindscythe   3.27  \n",
      "4                                         Fury   1.44  \n",
      "..                                         ...    ...  \n",
      "775                                       Wolf   3.54  \n",
      "776                           Exiled Doomblade   1.63  \n",
      "777      Celeste, Incarnation of the Corrupted   3.46  \n",
      "778                               Final Critic   4.19  \n",
      "779                                       Dawn   4.60  \n",
      "\n",
      "[780 rows x 7 columns]>\n"
     ]
    }
   ],
   "source": [
    "# Dependencies and Setup\n",
    "import pandas as pd\n",
    "import os \n",
    "import csv\n",
    "\n",
    "# File to Load (Remember to Change These)\n",
    "filepath = \"Resources/purchase_data.csv\"\n",
    "\n",
    "# Read Purchasing File and store into Pandas data frame\n",
    "myreader = pd.read_csv(filepath, delimiter=\",\")\n",
    "\n",
    "print (myreader.head)"
   ]
  },
  {
   "cell_type": "markdown",
   "metadata": {
    "tags": []
   },
   "source": [
    "---\n",
    "## PLAYER COUNT\n",
    "- Display the total number of players"
   ]
  },
  {
   "cell_type": "code",
   "execution_count": 2,
   "metadata": {},
   "outputs": [
    {
     "data": {
      "text/html": [
       "<div>\n",
       "<style scoped>\n",
       "    .dataframe tbody tr th:only-of-type {\n",
       "        vertical-align: middle;\n",
       "    }\n",
       "\n",
       "    .dataframe tbody tr th {\n",
       "        vertical-align: top;\n",
       "    }\n",
       "\n",
       "    .dataframe thead th {\n",
       "        text-align: right;\n",
       "    }\n",
       "</style>\n",
       "<table border=\"1\" class=\"dataframe\">\n",
       "  <thead>\n",
       "    <tr style=\"text-align: right;\">\n",
       "      <th></th>\n",
       "      <th>Total Players</th>\n",
       "    </tr>\n",
       "  </thead>\n",
       "  <tbody>\n",
       "    <tr>\n",
       "      <th>0</th>\n",
       "      <td>576</td>\n",
       "    </tr>\n",
       "  </tbody>\n",
       "</table>\n",
       "</div>"
      ],
      "text/plain": [
       "   Total Players\n",
       "0            576"
      ]
     },
     "execution_count": 2,
     "metadata": {},
     "output_type": "execute_result"
    }
   ],
   "source": [
    "#Player count df\n",
    "purchase_data = myreader\n",
    "# Calulates the total amount of uniqe players by removing the duplicates in the \"SN\" column\n",
    "total_count_players = myreader.drop_duplicates('SN', keep='last')\n",
    "total_count_players # this is a list \n",
    "total_players = len(total_count_players)\n",
    "total_players #this is the length of that list represented as a #.  see output\n",
    "\n",
    "df_total_players=pd.DataFrame({\n",
    "    'Total Players': [total_players]\n",
    "})\n",
    "df_total_players"
   ]
  },
  {
   "cell_type": "markdown",
   "metadata": {},
   "source": [
    "---\n",
    "## Purchasing Analysis (Total)\n",
    "- Run basic calculations to obtain number of unique items, average price, etc.\n",
    "- Create a summary data frame to hold the results\n",
    "- Optional: give the displayed data cleaner formatting\n",
    "- Display the summary data frame"
   ]
  },
  {
   "cell_type": "code",
   "execution_count": 3,
   "metadata": {},
   "outputs": [
    {
     "data": {
      "text/plain": [
       "179"
      ]
     },
     "execution_count": 3,
     "metadata": {},
     "output_type": "execute_result"
    }
   ],
   "source": [
    "# Calculates the total number of unique items by removing the duplicates in the \"Item ID\" column\n",
    "total_count_item_id = myreader.drop_duplicates('Item ID', keep='last')\n",
    "total_count_item_id \n",
    "total_unique_items = len(total_count_item_id)\n",
    "total_unique_items "
   ]
  },
  {
   "cell_type": "code",
   "execution_count": 4,
   "metadata": {},
   "outputs": [
    {
     "data": {
      "text/plain": [
       "3.0509871794871795"
      ]
     },
     "execution_count": 4,
     "metadata": {},
     "output_type": "execute_result"
    }
   ],
   "source": [
    "#Calculate the Average Price\n",
    "average_price = myreader['Price'].mean()\n",
    "average_price"
   ]
  },
  {
   "cell_type": "code",
   "execution_count": 5,
   "metadata": {
    "tags": []
   },
   "outputs": [
    {
     "data": {
      "text/plain": [
       "780"
      ]
     },
     "execution_count": 5,
     "metadata": {},
     "output_type": "execute_result"
    }
   ],
   "source": [
    "#Calculate the number of purchases\n",
    "purchase_id_column = \"Purchase ID\"\n",
    "number_of_purchases = len(myreader[purchase_id_column])\n",
    "number_of_purchases"
   ]
  },
  {
   "cell_type": "code",
   "execution_count": 6,
   "metadata": {},
   "outputs": [
    {
     "data": {
      "text/plain": [
       "2379.77"
      ]
     },
     "execution_count": 6,
     "metadata": {},
     "output_type": "execute_result"
    }
   ],
   "source": [
    "# Calculates the total revenue by summing row \"Price\"\n",
    "price_column = \"Price\"\n",
    "total_revenue = myreader[price_column].sum() \n",
    "total_revenue "
   ]
  },
  {
   "cell_type": "code",
   "execution_count": 7,
   "metadata": {},
   "outputs": [
    {
     "data": {
      "text/html": [
       "<style  type=\"text/css\" >\n",
       "</style><table id=\"T_979f5ec8_9d85_11eb_b942_f079601085ae\" ><thead>    <tr>        <th class=\"blank level0\" ></th>        <th class=\"col_heading level0 col0\" >Number of Unique Items</th>        <th class=\"col_heading level0 col1\" >Average Price</th>        <th class=\"col_heading level0 col2\" >Number of Purchases</th>        <th class=\"col_heading level0 col3\" >Total Revenue</th>    </tr></thead><tbody>\n",
       "                <tr>\n",
       "                        <th id=\"T_979f5ec8_9d85_11eb_b942_f079601085aelevel0_row0\" class=\"row_heading level0 row0\" >0</th>\n",
       "                        <td id=\"T_979f5ec8_9d85_11eb_b942_f079601085aerow0_col0\" class=\"data row0 col0\" >179</td>\n",
       "                        <td id=\"T_979f5ec8_9d85_11eb_b942_f079601085aerow0_col1\" class=\"data row0 col1\" >$3.05</td>\n",
       "                        <td id=\"T_979f5ec8_9d85_11eb_b942_f079601085aerow0_col2\" class=\"data row0 col2\" >780</td>\n",
       "                        <td id=\"T_979f5ec8_9d85_11eb_b942_f079601085aerow0_col3\" class=\"data row0 col3\" >$2,379.77</td>\n",
       "            </tr>\n",
       "    </tbody></table>"
      ],
      "text/plain": [
       "<pandas.io.formats.style.Styler at 0x7fc5f40216d8>"
      ]
     },
     "execution_count": 7,
     "metadata": {},
     "output_type": "execute_result"
    }
   ],
   "source": [
    "# Purchase analysis df\n",
    "\n",
    "df_purchasing_analysis=pd.DataFrame({\n",
    "    'Number of Unique Items': [total_unique_items],\n",
    "    'Average Price': [average_price],\n",
    "    'Number of Purchases': [number_of_purchases],\n",
    "    'Total Revenue':[total_revenue]\n",
    "}, columns=['Number of Unique Items', 'Average Price', 'Number of Purchases', 'Total Revenue'])\n",
    "\n",
    "#Format money columns\n",
    "df_purchasing_analysis = df_purchasing_analysis.style.format({\n",
    "    'Average Price':'${0:,.2f}',\n",
    "    'Total Revenue':'${0:,.2f}'\n",
    "})\n",
    "df_purchasing_analysis"
   ]
  },
  {
   "cell_type": "markdown",
   "metadata": {},
   "source": [
    "---\n",
    "## Gender Demographics\n",
    "- Percentage and Count of Male Players\n",
    "- Percentage and Count of Female Players\n",
    "- Percentage and Count of Other / Non-Disclosed"
   ]
  },
  {
   "cell_type": "code",
   "execution_count": 8,
   "metadata": {},
   "outputs": [
    {
     "name": "stdout",
     "output_type": "stream",
     "text": [
      "84.03\n"
     ]
    }
   ],
   "source": [
    "# Calculates the total count of males in my dataset.  This was done after I removed all of the duplicate SN.\n",
    "total_count_players.loc[(total_count_players['Gender'] == 'Male')]\n",
    "filtered_males = total_count_players.loc[(total_count_players['Gender'] == 'Male')] \n",
    "\n",
    "total_males = len(filtered_males)\n",
    "total_males   \n",
    "percentage_males = (total_males/total_players)*100\n",
    "percentage_males\n",
    "print (\"{:.2f}\".format(percentage_males))"
   ]
  },
  {
   "cell_type": "code",
   "execution_count": 9,
   "metadata": {},
   "outputs": [
    {
     "name": "stdout",
     "output_type": "stream",
     "text": [
      "14.06\n"
     ]
    }
   ],
   "source": [
    "total_count_players.loc[total_count_players['Gender'] == 'Female']\n",
    "filtered_females = total_count_players.loc[myreader['Gender'] == 'Female']\n",
    "\n",
    "total_females = len(filtered_females)\n",
    "total_females\n",
    "percentage_females = (total_females/total_players)*100\n",
    "percentage_females\n",
    "print (\"{:.2f}\".format(percentage_females))"
   ]
  },
  {
   "cell_type": "code",
   "execution_count": 10,
   "metadata": {},
   "outputs": [
    {
     "name": "stdout",
     "output_type": "stream",
     "text": [
      "1.91\n"
     ]
    }
   ],
   "source": [
    "total_count_players.loc[~total_count_players['Gender'].str.contains('Male|Female', regex=True)]\n",
    "filtered_other = total_count_players.loc[~total_count_players['Gender'].str.contains('Male|Female', regex=True)]\n",
    "\n",
    "total_other = len(filtered_other)\n",
    "total_other\n",
    "percentage_other = (total_other/total_players)*100\n",
    "percentage_other\n",
    "print (\"{:.2f}\".format(percentage_other))"
   ]
  },
  {
   "cell_type": "code",
   "execution_count": 11,
   "metadata": {},
   "outputs": [
    {
     "data": {
      "text/html": [
       "<style  type=\"text/css\" >\n",
       "</style><table id=\"T_98afccee_9d85_11eb_9413_f079601085ae\" ><thead>    <tr>        <th class=\"blank level0\" ></th>        <th class=\"col_heading level0 col0\" >Total Count</th>        <th class=\"col_heading level0 col1\" >Pecentage of Players</th>    </tr></thead><tbody>\n",
       "                <tr>\n",
       "                        <th id=\"T_98afccee_9d85_11eb_9413_f079601085aelevel0_row0\" class=\"row_heading level0 row0\" >Male</th>\n",
       "                        <td id=\"T_98afccee_9d85_11eb_9413_f079601085aerow0_col0\" class=\"data row0 col0\" >484</td>\n",
       "                        <td id=\"T_98afccee_9d85_11eb_9413_f079601085aerow0_col1\" class=\"data row0 col1\" >84.03%</td>\n",
       "            </tr>\n",
       "            <tr>\n",
       "                        <th id=\"T_98afccee_9d85_11eb_9413_f079601085aelevel0_row1\" class=\"row_heading level0 row1\" >Female</th>\n",
       "                        <td id=\"T_98afccee_9d85_11eb_9413_f079601085aerow1_col0\" class=\"data row1 col0\" >81</td>\n",
       "                        <td id=\"T_98afccee_9d85_11eb_9413_f079601085aerow1_col1\" class=\"data row1 col1\" >14.06%</td>\n",
       "            </tr>\n",
       "            <tr>\n",
       "                        <th id=\"T_98afccee_9d85_11eb_9413_f079601085aelevel0_row2\" class=\"row_heading level0 row2\" >Other / Non-Diclosed</th>\n",
       "                        <td id=\"T_98afccee_9d85_11eb_9413_f079601085aerow2_col0\" class=\"data row2 col0\" >11</td>\n",
       "                        <td id=\"T_98afccee_9d85_11eb_9413_f079601085aerow2_col1\" class=\"data row2 col1\" >1.91%</td>\n",
       "            </tr>\n",
       "    </tbody></table>"
      ],
      "text/plain": [
       "<pandas.io.formats.style.Styler at 0x7fc5f416af98>"
      ]
     },
     "execution_count": 11,
     "metadata": {},
     "output_type": "execute_result"
    }
   ],
   "source": [
    "# Gender Analysis Display Summary df\n",
    "\n",
    "\n",
    "df_gender_analysis=pd.DataFrame({\n",
    "    'Total Count': [total_males, total_females, total_other],\n",
    "    'Pecentage of Players': [percentage_males, percentage_females, percentage_other]\n",
    "}, columns=['Total Count', 'Pecentage of Players'])\n",
    "df_gender_analysis.index = ['Male', 'Female', 'Other / Non-Diclosed']\n",
    "\n",
    "#Format columns \n",
    "df_gender_analysis = df_gender_analysis.style.format({\n",
    "    'Total Count':'{0:,.0f}',\n",
    "    'Pecentage of Players':'{0:,.2f}%'\n",
    "})\n",
    "\n",
    "df_gender_analysis"
   ]
  },
  {
   "cell_type": "markdown",
   "metadata": {},
   "source": [
    "---\n",
    "## Purchasing Analysis (Gender)\n",
    "- Run basic calculations to obtain purchase count, avg. purchase price, avg. purchase total per person etc. by gender\n",
    "- Create a summary data frame to hold the results\n",
    "- Optional: give the displayed data cleaner formatting\n",
    "- Display the summary data frame"
   ]
  },
  {
   "cell_type": "code",
   "execution_count": 12,
   "metadata": {},
   "outputs": [
    {
     "data": {
      "text/plain": [
       "652"
      ]
     },
     "execution_count": 12,
     "metadata": {},
     "output_type": "execute_result"
    }
   ],
   "source": [
    "# Calculate Purchase Count By Gender - Males\n",
    "\n",
    "male_purchase_count = len(myreader.loc[(myreader['Gender'] == 'Male')]['Purchase ID'])\n",
    "male_purchase_count"
   ]
  },
  {
   "cell_type": "code",
   "execution_count": 13,
   "metadata": {},
   "outputs": [
    {
     "data": {
      "text/plain": [
       "113"
      ]
     },
     "execution_count": 13,
     "metadata": {},
     "output_type": "execute_result"
    }
   ],
   "source": [
    "# Calculate Purchase Count By Gender - Females\n",
    "\n",
    "female_purchase_count = len(myreader.loc[(myreader['Gender'] == 'Female')]['Purchase ID'])\n",
    "female_purchase_count\n"
   ]
  },
  {
   "cell_type": "code",
   "execution_count": 14,
   "metadata": {},
   "outputs": [
    {
     "data": {
      "text/plain": [
       "15"
      ]
     },
     "execution_count": 14,
     "metadata": {},
     "output_type": "execute_result"
    }
   ],
   "source": [
    "# Calculate Purchase Count By Gender - Other\n",
    "\n",
    "other_purchase_count = len(myreader.loc[~myreader['Gender'].str.contains('Male|Female', regex=True)]['Price'])\n",
    "other_purchase_count\n"
   ]
  },
  {
   "cell_type": "code",
   "execution_count": 15,
   "metadata": {},
   "outputs": [
    {
     "data": {
      "text/plain": [
       "3.0178527607361967"
      ]
     },
     "execution_count": 15,
     "metadata": {},
     "output_type": "execute_result"
    }
   ],
   "source": [
    "# Calculate Average Purchase Price by Gender - Males\n",
    "male_average_purchase_price = (myreader.loc[(myreader['Gender'] == 'Male')]['Price']).mean()\n",
    "male_average_purchase_price"
   ]
  },
  {
   "cell_type": "code",
   "execution_count": 16,
   "metadata": {},
   "outputs": [
    {
     "data": {
      "text/plain": [
       "3.203008849557522"
      ]
     },
     "execution_count": 16,
     "metadata": {},
     "output_type": "execute_result"
    }
   ],
   "source": [
    "# Calculate Average Purchase Price by Gender - Females\n",
    "female_average_purchase_price = (myreader.loc[(myreader['Gender'] == 'Female')]['Price']).mean()\n",
    "female_average_purchase_price"
   ]
  },
  {
   "cell_type": "code",
   "execution_count": 17,
   "metadata": {},
   "outputs": [
    {
     "data": {
      "text/plain": [
       "3.3459999999999996"
      ]
     },
     "execution_count": 17,
     "metadata": {},
     "output_type": "execute_result"
    }
   ],
   "source": [
    "# Calculate Average Purchase Price by Gender - Other\n",
    "other_average_purchase_price = (myreader.loc[~myreader['Gender'].str.contains('Male|Female', regex=True)])['Price'].mean()\n",
    "other_average_purchase_price"
   ]
  },
  {
   "cell_type": "code",
   "execution_count": 18,
   "metadata": {},
   "outputs": [
    {
     "data": {
      "text/plain": [
       "1967.64"
      ]
     },
     "execution_count": 18,
     "metadata": {},
     "output_type": "execute_result"
    }
   ],
   "source": [
    "# Calculate Total Purchase Value By Gender - Males\n",
    "\n",
    "male_total_purchase_value = myreader.loc[(myreader['Gender'] == 'Male')]['Price'].sum()\n",
    "male_total_purchase_value"
   ]
  },
  {
   "cell_type": "code",
   "execution_count": 19,
   "metadata": {},
   "outputs": [
    {
     "data": {
      "text/plain": [
       "361.94"
      ]
     },
     "execution_count": 19,
     "metadata": {},
     "output_type": "execute_result"
    }
   ],
   "source": [
    "# Calculate Total Purchase Value By Gender - Females\n",
    "\n",
    "female_total_purchase_value = myreader.loc[(myreader['Gender'] == 'Female')]['Price'].sum()\n",
    "female_total_purchase_value"
   ]
  },
  {
   "cell_type": "code",
   "execution_count": 20,
   "metadata": {},
   "outputs": [
    {
     "data": {
      "text/plain": [
       "50.19"
      ]
     },
     "execution_count": 20,
     "metadata": {},
     "output_type": "execute_result"
    }
   ],
   "source": [
    "# Calculate Total Purchase Value By Gender - Other\n",
    "\n",
    "other_total_purchase_value = myreader.loc[~myreader['Gender'].str.contains('Male|Female', regex=True)]['Price'].sum()\n",
    "other_total_purchase_value"
   ]
  },
  {
   "cell_type": "code",
   "execution_count": 21,
   "metadata": {
    "tags": []
   },
   "outputs": [
    {
     "data": {
      "text/plain": [
       "4.065371900826446"
      ]
     },
     "execution_count": 21,
     "metadata": {},
     "output_type": "execute_result"
    }
   ],
   "source": [
    "#Calculate Average Total Purchase Value(per person) by Gender - Males\n",
    "\n",
    "unique_male_purchases = myreader.drop_duplicates('SN', keep='last').loc[(myreader['Gender'] == 'Male')]['Purchase ID']\n",
    "unique_male_purchase_count = len(unique_male_purchases)\n",
    "male_avg_total_purchase_value_per_person = myreader.loc[(myreader['Gender'] == 'Male')]['Price'].sum() / unique_male_purchase_count\n",
    "male_avg_total_purchase_value_per_person\n"
   ]
  },
  {
   "cell_type": "code",
   "execution_count": 22,
   "metadata": {},
   "outputs": [
    {
     "data": {
      "text/plain": [
       "4.468395061728395"
      ]
     },
     "execution_count": 22,
     "metadata": {},
     "output_type": "execute_result"
    }
   ],
   "source": [
    "#Calculate Average Total Purchase Value(per person) by Gender - Females\n",
    "\n",
    "unique_female_purchases = myreader.drop_duplicates('SN', keep='last').loc[(myreader['Gender'] == 'Female')]['Purchase ID']\n",
    "unique_female_purchase_count = len(unique_female_purchases)\n",
    "female_avg_total_purchase_value_per_person = myreader.loc[(myreader['Gender'] == 'Female')]['Price'].sum() / unique_female_purchase_count\n",
    "female_avg_total_purchase_value_per_person"
   ]
  },
  {
   "cell_type": "code",
   "execution_count": 23,
   "metadata": {},
   "outputs": [
    {
     "data": {
      "text/plain": [
       "4.5627272727272725"
      ]
     },
     "execution_count": 23,
     "metadata": {},
     "output_type": "execute_result"
    }
   ],
   "source": [
    "#Calculate Average Total Purchase Value(per person) by Gender - Other\n",
    "\n",
    "unique_other_purchases = myreader.drop_duplicates('SN', keep='last').loc[~myreader['Gender'].str.contains('Male|Female', regex=True)]['Purchase ID']\n",
    "unique_other_purchase_count = len(unique_other_purchases)\n",
    "other_avg_total_purchase_value_per_person = myreader.loc[~myreader['Gender'].str.contains('Male|Female', regex=True)]['Price'].sum() / unique_other_purchase_count\n",
    "other_avg_total_purchase_value_per_person"
   ]
  },
  {
   "cell_type": "code",
   "execution_count": 24,
   "metadata": {},
   "outputs": [
    {
     "data": {
      "text/html": [
       "<style  type=\"text/css\" >\n",
       "</style><table id=\"T_9c1482b4_9d85_11eb_a705_f079601085ae\" ><thead>    <tr>        <th class=\"blank level0\" ></th>        <th class=\"col_heading level0 col0\" >Purchase Count</th>        <th class=\"col_heading level0 col1\" >Average Purchase Price</th>        <th class=\"col_heading level0 col2\" >Total Purchase Value</th>        <th class=\"col_heading level0 col3\" >Average Total Purchase Per Person</th>    </tr></thead><tbody>\n",
       "                <tr>\n",
       "                        <th id=\"T_9c1482b4_9d85_11eb_a705_f079601085aelevel0_row0\" class=\"row_heading level0 row0\" >Male</th>\n",
       "                        <td id=\"T_9c1482b4_9d85_11eb_a705_f079601085aerow0_col0\" class=\"data row0 col0\" >652</td>\n",
       "                        <td id=\"T_9c1482b4_9d85_11eb_a705_f079601085aerow0_col1\" class=\"data row0 col1\" >$3.02</td>\n",
       "                        <td id=\"T_9c1482b4_9d85_11eb_a705_f079601085aerow0_col2\" class=\"data row0 col2\" >$1,967.64</td>\n",
       "                        <td id=\"T_9c1482b4_9d85_11eb_a705_f079601085aerow0_col3\" class=\"data row0 col3\" >$4.07</td>\n",
       "            </tr>\n",
       "            <tr>\n",
       "                        <th id=\"T_9c1482b4_9d85_11eb_a705_f079601085aelevel0_row1\" class=\"row_heading level0 row1\" >Female</th>\n",
       "                        <td id=\"T_9c1482b4_9d85_11eb_a705_f079601085aerow1_col0\" class=\"data row1 col0\" >113</td>\n",
       "                        <td id=\"T_9c1482b4_9d85_11eb_a705_f079601085aerow1_col1\" class=\"data row1 col1\" >$3.20</td>\n",
       "                        <td id=\"T_9c1482b4_9d85_11eb_a705_f079601085aerow1_col2\" class=\"data row1 col2\" >$361.94</td>\n",
       "                        <td id=\"T_9c1482b4_9d85_11eb_a705_f079601085aerow1_col3\" class=\"data row1 col3\" >$4.47</td>\n",
       "            </tr>\n",
       "            <tr>\n",
       "                        <th id=\"T_9c1482b4_9d85_11eb_a705_f079601085aelevel0_row2\" class=\"row_heading level0 row2\" >Other / Non-Diclosed</th>\n",
       "                        <td id=\"T_9c1482b4_9d85_11eb_a705_f079601085aerow2_col0\" class=\"data row2 col0\" >15</td>\n",
       "                        <td id=\"T_9c1482b4_9d85_11eb_a705_f079601085aerow2_col1\" class=\"data row2 col1\" >$3.35</td>\n",
       "                        <td id=\"T_9c1482b4_9d85_11eb_a705_f079601085aerow2_col2\" class=\"data row2 col2\" >$50.19</td>\n",
       "                        <td id=\"T_9c1482b4_9d85_11eb_a705_f079601085aerow2_col3\" class=\"data row2 col3\" >$4.56</td>\n",
       "            </tr>\n",
       "    </tbody></table>"
      ],
      "text/plain": [
       "<pandas.io.formats.style.Styler at 0x7fc5f51ac7f0>"
      ]
     },
     "execution_count": 24,
     "metadata": {},
     "output_type": "execute_result"
    }
   ],
   "source": [
    "# Purchasing Analysis df\n",
    "\n",
    "df_purchasing_analysis_by_gender=pd.DataFrame({\n",
    "    'Purchase Count': [male_purchase_count,female_purchase_count,other_purchase_count],\n",
    "    'Average Purchase Price': [male_average_purchase_price,female_average_purchase_price,other_average_purchase_price],\n",
    "    'Total Purchase Value': [male_total_purchase_value,female_total_purchase_value,other_total_purchase_value],\n",
    "    'Average Total Purchase Per Person': [male_avg_total_purchase_value_per_person,female_avg_total_purchase_value_per_person,other_avg_total_purchase_value_per_person]\n",
    "}, columns=['Purchase Count', 'Average Purchase Price', 'Total Purchase Value','Average Total Purchase Per Person'])\n",
    "df_purchasing_analysis_by_gender.index = ['Male', 'Female', 'Other / Non-Diclosed']\n",
    "\n",
    "#Format columns \n",
    "df_purchasing_analysis_by_gender = df_purchasing_analysis_by_gender.style.format({\n",
    "    'Average Purchase Price':'${0:,.2f}',\n",
    "    'Total Purchase Value':'${0:,.2f}',\n",
    "    'Average Total Purchase Per Person':'${0:,.2f}'\n",
    "})\n",
    "df_purchasing_analysis_by_gender"
   ]
  },
  {
   "cell_type": "markdown",
   "metadata": {},
   "source": [
    "---\n",
    "## Age Demographics\n",
    "- Establish bins for ages\n",
    "- Categorize the existing players using the age bins. Hint: use pd.cut()\n",
    "- Calculate the numbers and percentages by age group\n",
    "- Create a summary data frame to hold the results\n",
    "Optional: round the percentage column to two decimal points\n",
    "Display Age Demographics Table"
   ]
  },
  {
   "cell_type": "code",
   "execution_count": 25,
   "metadata": {},
   "outputs": [
    {
     "data": {
      "text/html": [
       "<style  type=\"text/css\" >\n",
       "</style><table id=\"T_9c94c5ee_9d85_11eb_9cce_f079601085ae\" ><thead>    <tr>        <th class=\"blank level0\" ></th>        <th class=\"col_heading level0 col0\" >Total Count</th>        <th class=\"col_heading level0 col1\" >Percentage of Players</th>    </tr></thead><tbody>\n",
       "                <tr>\n",
       "                        <th id=\"T_9c94c5ee_9d85_11eb_9cce_f079601085aelevel0_row0\" class=\"row_heading level0 row0\" ><10</th>\n",
       "                        <td id=\"T_9c94c5ee_9d85_11eb_9cce_f079601085aerow0_col0\" class=\"data row0 col0\" >17</td>\n",
       "                        <td id=\"T_9c94c5ee_9d85_11eb_9cce_f079601085aerow0_col1\" class=\"data row0 col1\" >2.95%</td>\n",
       "            </tr>\n",
       "            <tr>\n",
       "                        <th id=\"T_9c94c5ee_9d85_11eb_9cce_f079601085aelevel0_row1\" class=\"row_heading level0 row1\" >10-14</th>\n",
       "                        <td id=\"T_9c94c5ee_9d85_11eb_9cce_f079601085aerow1_col0\" class=\"data row1 col0\" >22</td>\n",
       "                        <td id=\"T_9c94c5ee_9d85_11eb_9cce_f079601085aerow1_col1\" class=\"data row1 col1\" >3.82%</td>\n",
       "            </tr>\n",
       "            <tr>\n",
       "                        <th id=\"T_9c94c5ee_9d85_11eb_9cce_f079601085aelevel0_row2\" class=\"row_heading level0 row2\" >15-19</th>\n",
       "                        <td id=\"T_9c94c5ee_9d85_11eb_9cce_f079601085aerow2_col0\" class=\"data row2 col0\" >107</td>\n",
       "                        <td id=\"T_9c94c5ee_9d85_11eb_9cce_f079601085aerow2_col1\" class=\"data row2 col1\" >18.58%</td>\n",
       "            </tr>\n",
       "            <tr>\n",
       "                        <th id=\"T_9c94c5ee_9d85_11eb_9cce_f079601085aelevel0_row3\" class=\"row_heading level0 row3\" >20-24</th>\n",
       "                        <td id=\"T_9c94c5ee_9d85_11eb_9cce_f079601085aerow3_col0\" class=\"data row3 col0\" >258</td>\n",
       "                        <td id=\"T_9c94c5ee_9d85_11eb_9cce_f079601085aerow3_col1\" class=\"data row3 col1\" >44.79%</td>\n",
       "            </tr>\n",
       "            <tr>\n",
       "                        <th id=\"T_9c94c5ee_9d85_11eb_9cce_f079601085aelevel0_row4\" class=\"row_heading level0 row4\" >25-29</th>\n",
       "                        <td id=\"T_9c94c5ee_9d85_11eb_9cce_f079601085aerow4_col0\" class=\"data row4 col0\" >77</td>\n",
       "                        <td id=\"T_9c94c5ee_9d85_11eb_9cce_f079601085aerow4_col1\" class=\"data row4 col1\" >13.37%</td>\n",
       "            </tr>\n",
       "            <tr>\n",
       "                        <th id=\"T_9c94c5ee_9d85_11eb_9cce_f079601085aelevel0_row5\" class=\"row_heading level0 row5\" >30-34</th>\n",
       "                        <td id=\"T_9c94c5ee_9d85_11eb_9cce_f079601085aerow5_col0\" class=\"data row5 col0\" >52</td>\n",
       "                        <td id=\"T_9c94c5ee_9d85_11eb_9cce_f079601085aerow5_col1\" class=\"data row5 col1\" >9.03%</td>\n",
       "            </tr>\n",
       "            <tr>\n",
       "                        <th id=\"T_9c94c5ee_9d85_11eb_9cce_f079601085aelevel0_row6\" class=\"row_heading level0 row6\" >35-39</th>\n",
       "                        <td id=\"T_9c94c5ee_9d85_11eb_9cce_f079601085aerow6_col0\" class=\"data row6 col0\" >31</td>\n",
       "                        <td id=\"T_9c94c5ee_9d85_11eb_9cce_f079601085aerow6_col1\" class=\"data row6 col1\" >5.38%</td>\n",
       "            </tr>\n",
       "            <tr>\n",
       "                        <th id=\"T_9c94c5ee_9d85_11eb_9cce_f079601085aelevel0_row7\" class=\"row_heading level0 row7\" >40+</th>\n",
       "                        <td id=\"T_9c94c5ee_9d85_11eb_9cce_f079601085aerow7_col0\" class=\"data row7 col0\" >12</td>\n",
       "                        <td id=\"T_9c94c5ee_9d85_11eb_9cce_f079601085aerow7_col1\" class=\"data row7 col1\" >2.08%</td>\n",
       "            </tr>\n",
       "    </tbody></table>"
      ],
      "text/plain": [
       "<pandas.io.formats.style.Styler at 0x7fc5f5240390>"
      ]
     },
     "execution_count": 25,
     "metadata": {},
     "output_type": "execute_result"
    }
   ],
   "source": [
    "# Establish bins for ages\n",
    "bins = [0,9,14,19,24,29,34,39, 130]\n",
    "labels = ['<10', '10-14', '15-19', '20-24', '25-29', '30-34', '35-39', '40+']\n",
    "\n",
    "# Categorize players using the age bins\n",
    "\n",
    "#making copy just in case\n",
    "myreader_copy_unique_players=myreader.drop_duplicates('SN', keep='last')\n",
    "myreader_copy_unique_players\n",
    "player_age_groups = pd.cut(myreader_copy_unique_players.Age,bins=bins,labels=labels)\n",
    "pd.DataFrame(myreader_copy_unique_players)['Age Group'] = player_age_groups\n",
    "player_age_groups\n",
    "\n",
    "\n",
    "# Calculate the numbers and percentages by age group\n",
    "\n",
    "range_under_10_count = len(myreader_copy_unique_players.loc[(myreader_copy_unique_players['Age Group'] == '<10')])\n",
    "range_10_to_14_count = len(myreader_copy_unique_players.loc[(myreader_copy_unique_players['Age Group'] == '10-14')])\n",
    "range_15_to_19_count = len(myreader_copy_unique_players.loc[(myreader_copy_unique_players['Age Group'] == '15-19')])\n",
    "range_20_to_24_count = len(myreader_copy_unique_players.loc[(myreader_copy_unique_players['Age Group'] == '20-24')])\n",
    "range_25_to_29_count = len(myreader_copy_unique_players.loc[(myreader_copy_unique_players['Age Group'] == '25-29')])\n",
    "range_30_to_34_count = len(myreader_copy_unique_players.loc[(myreader_copy_unique_players['Age Group'] == '30-34')])\n",
    "range_35_to_39_count = len(myreader_copy_unique_players.loc[(myreader_copy_unique_players['Age Group'] == '35-39')])\n",
    "range_40_plus_count = len(myreader_copy_unique_players.loc[(myreader_copy_unique_players['Age Group'] == '40+')])\n",
    "\n",
    "total_player_count = len(myreader_copy_unique_players)\n",
    "\n",
    "age_group_counts = [\n",
    "       range_under_10_count,\n",
    "       range_10_to_14_count,\n",
    "       range_15_to_19_count,\n",
    "       range_20_to_24_count,\n",
    "       range_25_to_29_count,\n",
    "       range_30_to_34_count,\n",
    "       range_35_to_39_count,\n",
    "       range_40_plus_count ]\n",
    "\n",
    "age_group_count_percentage = [\n",
    "       range_under_10_count / total_player_count * 100,\n",
    "       range_10_to_14_count / total_player_count * 100,\n",
    "       range_15_to_19_count / total_player_count * 100,\n",
    "       range_20_to_24_count / total_player_count * 100,\n",
    "       range_25_to_29_count / total_player_count * 100,\n",
    "       range_30_to_34_count / total_player_count * 100,\n",
    "       range_35_to_39_count / total_player_count * 100,\n",
    "       range_40_plus_count / total_player_count * 100 ]\n",
    "\n",
    "# Age Demographic df\n",
    "\n",
    "df_age_demographics=pd.DataFrame({\n",
    "   'Total Count': age_group_counts,\n",
    "   'Percentage of Players': age_group_count_percentage\n",
    "})\n",
    "df_age_demographics.index = labels\n",
    "df_age_demographics = df_age_demographics.style.format({\n",
    "   'Total Count':'{0:,.0f}',\n",
    "   'Percentage of Players':'{0:,.2f}%'\n",
    "})\n",
    "df_age_demographics\n",
    "\n"
   ]
  },
  {
   "cell_type": "markdown",
   "metadata": {},
   "source": [
    "---\n",
    "## Purchasing Analysis (Age)\n",
    "- Bin the purchase_data data frame by age\n",
    "- Run basic calculations to obtain purchase count, avg. purchase price, avg. purchase total per person etc. in the - - table below\n",
    "- Create a summary data frame to hold the results\n",
    "- Optional: give the displayed data cleaner formatting\n",
    "- Display the summary data frame"
   ]
  },
  {
   "cell_type": "code",
   "execution_count": 26,
   "metadata": {},
   "outputs": [],
   "source": [
    "# Bin the purchase_data data frame by age\n",
    "\n",
    "\n",
    "myreader_all_purchases = myreader\n",
    "\n",
    "pd.DataFrame(myreader_all_purchases)['Age Group'] = pd.cut(myreader_all_purchases.Age,bins=bins,labels=labels)\n",
    "myreader_all_purchases\n",
    "\n",
    "# extract age group data for later\n",
    "range_under_10_data = myreader_all_purchases.loc[(myreader_all_purchases['Age Group'] == '<10')]\n",
    "range_10_to_14_data = myreader_all_purchases.loc[(myreader_all_purchases['Age Group'] == '10-14')]\n",
    "range_15_to_19_data = myreader_all_purchases.loc[(myreader_all_purchases['Age Group'] == '15-19')]\n",
    "range_20_to_24_data = myreader_all_purchases.loc[(myreader_all_purchases['Age Group'] == '20-24')]\n",
    "range_25_to_29_data = myreader_all_purchases.loc[(myreader_all_purchases['Age Group'] == '25-29')]\n",
    "range_30_to_34_data = myreader_all_purchases.loc[(myreader_all_purchases['Age Group'] == '30-34')]\n",
    "range_35_to_39_data = myreader_all_purchases.loc[(myreader_all_purchases['Age Group'] == '35-39')]\n",
    "range_40_plus_data = myreader_all_purchases.loc[(myreader_all_purchases['Age Group'] == '40+')]\n",
    "\n",
    "# Run calculations to get data for my df\n",
    "\n",
    "age_group_purchase_counts = [\n",
    "    len(range_under_10_data['Purchase ID']),\n",
    "    len(range_10_to_14_data['Purchase ID']),\n",
    "    len(range_15_to_19_data['Purchase ID']),\n",
    "    len(range_20_to_24_data['Purchase ID']),\n",
    "    len(range_25_to_29_data['Purchase ID']),\n",
    "    len(range_30_to_34_data['Purchase ID']),\n",
    "    len(range_35_to_39_data['Purchase ID']),\n",
    "    len(range_40_plus_data['Purchase ID'])\n",
    "]\n",
    "\n",
    "age_group_average_purchase_price = [\n",
    "    range_under_10_data['Price'].mean(),\n",
    "    range_10_to_14_data['Price'].mean(),\n",
    "    range_15_to_19_data['Price'].mean(),\n",
    "    range_20_to_24_data['Price'].mean(),\n",
    "    range_25_to_29_data['Price'].mean(),\n",
    "    range_30_to_34_data['Price'].mean(),\n",
    "    range_35_to_39_data['Price'].mean(),\n",
    "    range_40_plus_data['Price'].mean()\n",
    "]\n",
    "\n",
    "age_group_total_purchase_value = [\n",
    "    range_under_10_data['Price'].sum(),\n",
    "    range_10_to_14_data['Price'].sum(),\n",
    "    range_15_to_19_data['Price'].sum(),\n",
    "    range_20_to_24_data['Price'].sum(),\n",
    "    range_25_to_29_data['Price'].sum(),\n",
    "    range_30_to_34_data['Price'].sum(),\n",
    "    range_35_to_39_data['Price'].sum(),\n",
    "    range_40_plus_data['Price'].sum()\n",
    "]\n",
    "\n",
    "age_group_avg_total_per_person = [\n",
    "    range_under_10_data['Price'].sum() / len(range_under_10_data.drop_duplicates('SN', keep='last')),\n",
    "    range_10_to_14_data['Price'].sum() / len(range_10_to_14_data.drop_duplicates('SN', keep='last')),\n",
    "    range_15_to_19_data['Price'].sum() / len(range_15_to_19_data.drop_duplicates('SN', keep='last')),\n",
    "    range_20_to_24_data['Price'].sum() / len(range_20_to_24_data.drop_duplicates('SN', keep='last')),\n",
    "    range_25_to_29_data['Price'].sum() / len(range_25_to_29_data.drop_duplicates('SN', keep='last')),\n",
    "    range_30_to_34_data['Price'].sum() / len(range_30_to_34_data.drop_duplicates('SN', keep='last')),\n",
    "    range_35_to_39_data['Price'].sum() / len(range_35_to_39_data.drop_duplicates('SN', keep='last')),\n",
    "    range_40_plus_data['Price'].sum() / len(range_40_plus_data.drop_duplicates('SN', keep='last'))\n",
    "]\n",
    "\n"
   ]
  },
  {
   "cell_type": "code",
   "execution_count": 27,
   "metadata": {},
   "outputs": [
    {
     "data": {
      "text/html": [
       "<style  type=\"text/css\" >\n",
       "</style><table id=\"T_9d5d6e90_9d85_11eb_8958_f079601085ae\" ><thead>    <tr>        <th class=\"blank level0\" ></th>        <th class=\"col_heading level0 col0\" >Purchase Count</th>        <th class=\"col_heading level0 col1\" >Average Purchase Price</th>        <th class=\"col_heading level0 col2\" >Total Purchase Value</th>        <th class=\"col_heading level0 col3\" >Average Total Purchase Per Person</th>    </tr></thead><tbody>\n",
       "                <tr>\n",
       "                        <th id=\"T_9d5d6e90_9d85_11eb_8958_f079601085aelevel0_row0\" class=\"row_heading level0 row0\" ><10</th>\n",
       "                        <td id=\"T_9d5d6e90_9d85_11eb_8958_f079601085aerow0_col0\" class=\"data row0 col0\" >23</td>\n",
       "                        <td id=\"T_9d5d6e90_9d85_11eb_8958_f079601085aerow0_col1\" class=\"data row0 col1\" >$3.35</td>\n",
       "                        <td id=\"T_9d5d6e90_9d85_11eb_8958_f079601085aerow0_col2\" class=\"data row0 col2\" >$77.13</td>\n",
       "                        <td id=\"T_9d5d6e90_9d85_11eb_8958_f079601085aerow0_col3\" class=\"data row0 col3\" >$4.54</td>\n",
       "            </tr>\n",
       "            <tr>\n",
       "                        <th id=\"T_9d5d6e90_9d85_11eb_8958_f079601085aelevel0_row1\" class=\"row_heading level0 row1\" >10-14</th>\n",
       "                        <td id=\"T_9d5d6e90_9d85_11eb_8958_f079601085aerow1_col0\" class=\"data row1 col0\" >28</td>\n",
       "                        <td id=\"T_9d5d6e90_9d85_11eb_8958_f079601085aerow1_col1\" class=\"data row1 col1\" >$2.96</td>\n",
       "                        <td id=\"T_9d5d6e90_9d85_11eb_8958_f079601085aerow1_col2\" class=\"data row1 col2\" >$82.78</td>\n",
       "                        <td id=\"T_9d5d6e90_9d85_11eb_8958_f079601085aerow1_col3\" class=\"data row1 col3\" >$3.76</td>\n",
       "            </tr>\n",
       "            <tr>\n",
       "                        <th id=\"T_9d5d6e90_9d85_11eb_8958_f079601085aelevel0_row2\" class=\"row_heading level0 row2\" >15-19</th>\n",
       "                        <td id=\"T_9d5d6e90_9d85_11eb_8958_f079601085aerow2_col0\" class=\"data row2 col0\" >136</td>\n",
       "                        <td id=\"T_9d5d6e90_9d85_11eb_8958_f079601085aerow2_col1\" class=\"data row2 col1\" >$3.04</td>\n",
       "                        <td id=\"T_9d5d6e90_9d85_11eb_8958_f079601085aerow2_col2\" class=\"data row2 col2\" >$412.89</td>\n",
       "                        <td id=\"T_9d5d6e90_9d85_11eb_8958_f079601085aerow2_col3\" class=\"data row2 col3\" >$3.86</td>\n",
       "            </tr>\n",
       "            <tr>\n",
       "                        <th id=\"T_9d5d6e90_9d85_11eb_8958_f079601085aelevel0_row3\" class=\"row_heading level0 row3\" >20-24</th>\n",
       "                        <td id=\"T_9d5d6e90_9d85_11eb_8958_f079601085aerow3_col0\" class=\"data row3 col0\" >365</td>\n",
       "                        <td id=\"T_9d5d6e90_9d85_11eb_8958_f079601085aerow3_col1\" class=\"data row3 col1\" >$3.05</td>\n",
       "                        <td id=\"T_9d5d6e90_9d85_11eb_8958_f079601085aerow3_col2\" class=\"data row3 col2\" >$1,114.06</td>\n",
       "                        <td id=\"T_9d5d6e90_9d85_11eb_8958_f079601085aerow3_col3\" class=\"data row3 col3\" >$4.32</td>\n",
       "            </tr>\n",
       "            <tr>\n",
       "                        <th id=\"T_9d5d6e90_9d85_11eb_8958_f079601085aelevel0_row4\" class=\"row_heading level0 row4\" >25-29</th>\n",
       "                        <td id=\"T_9d5d6e90_9d85_11eb_8958_f079601085aerow4_col0\" class=\"data row4 col0\" >101</td>\n",
       "                        <td id=\"T_9d5d6e90_9d85_11eb_8958_f079601085aerow4_col1\" class=\"data row4 col1\" >$2.90</td>\n",
       "                        <td id=\"T_9d5d6e90_9d85_11eb_8958_f079601085aerow4_col2\" class=\"data row4 col2\" >$293.00</td>\n",
       "                        <td id=\"T_9d5d6e90_9d85_11eb_8958_f079601085aerow4_col3\" class=\"data row4 col3\" >$3.81</td>\n",
       "            </tr>\n",
       "            <tr>\n",
       "                        <th id=\"T_9d5d6e90_9d85_11eb_8958_f079601085aelevel0_row5\" class=\"row_heading level0 row5\" >30-34</th>\n",
       "                        <td id=\"T_9d5d6e90_9d85_11eb_8958_f079601085aerow5_col0\" class=\"data row5 col0\" >73</td>\n",
       "                        <td id=\"T_9d5d6e90_9d85_11eb_8958_f079601085aerow5_col1\" class=\"data row5 col1\" >$2.93</td>\n",
       "                        <td id=\"T_9d5d6e90_9d85_11eb_8958_f079601085aerow5_col2\" class=\"data row5 col2\" >$214.00</td>\n",
       "                        <td id=\"T_9d5d6e90_9d85_11eb_8958_f079601085aerow5_col3\" class=\"data row5 col3\" >$4.12</td>\n",
       "            </tr>\n",
       "            <tr>\n",
       "                        <th id=\"T_9d5d6e90_9d85_11eb_8958_f079601085aelevel0_row6\" class=\"row_heading level0 row6\" >35-39</th>\n",
       "                        <td id=\"T_9d5d6e90_9d85_11eb_8958_f079601085aerow6_col0\" class=\"data row6 col0\" >41</td>\n",
       "                        <td id=\"T_9d5d6e90_9d85_11eb_8958_f079601085aerow6_col1\" class=\"data row6 col1\" >$3.60</td>\n",
       "                        <td id=\"T_9d5d6e90_9d85_11eb_8958_f079601085aerow6_col2\" class=\"data row6 col2\" >$147.67</td>\n",
       "                        <td id=\"T_9d5d6e90_9d85_11eb_8958_f079601085aerow6_col3\" class=\"data row6 col3\" >$4.76</td>\n",
       "            </tr>\n",
       "            <tr>\n",
       "                        <th id=\"T_9d5d6e90_9d85_11eb_8958_f079601085aelevel0_row7\" class=\"row_heading level0 row7\" >40+</th>\n",
       "                        <td id=\"T_9d5d6e90_9d85_11eb_8958_f079601085aerow7_col0\" class=\"data row7 col0\" >13</td>\n",
       "                        <td id=\"T_9d5d6e90_9d85_11eb_8958_f079601085aerow7_col1\" class=\"data row7 col1\" >$2.94</td>\n",
       "                        <td id=\"T_9d5d6e90_9d85_11eb_8958_f079601085aerow7_col2\" class=\"data row7 col2\" >$38.24</td>\n",
       "                        <td id=\"T_9d5d6e90_9d85_11eb_8958_f079601085aerow7_col3\" class=\"data row7 col3\" >$3.19</td>\n",
       "            </tr>\n",
       "    </tbody></table>"
      ],
      "text/plain": [
       "<pandas.io.formats.style.Styler at 0x7fc5f525c940>"
      ]
     },
     "execution_count": 27,
     "metadata": {},
     "output_type": "execute_result"
    }
   ],
   "source": [
    "# Purchasing Analysis Display Summary df\n",
    "\n",
    "df_purchasing_analysis_by_age=pd.DataFrame({\n",
    "    'Purchase Count': age_group_purchase_counts,\n",
    "    'Average Purchase Price': age_group_average_purchase_price,\n",
    "    'Total Purchase Value': age_group_total_purchase_value,\n",
    "    'Average Total Purchase Per Person': age_group_avg_total_per_person\n",
    "}, columns=['Purchase Count', 'Average Purchase Price', 'Total Purchase Value','Average Total Purchase Per Person'])\n",
    "df_purchasing_analysis_by_age.index = labels\n",
    "\n",
    "#Format columns \n",
    "df_purchasing_analysis_by_age = df_purchasing_analysis_by_age.style.format({\n",
    "    'Average Purchase Price':'${0:,.2f}',\n",
    "    'Total Purchase Value':'${0:,.2f}',\n",
    "    'Average Total Purchase Per Person':'${0:,.2f}'\n",
    "})\n",
    "df_purchasing_analysis_by_age"
   ]
  },
  {
   "cell_type": "markdown",
   "metadata": {},
   "source": [
    "---\n",
    "## Top Spenders\n",
    "- Run basic calculations to obtain the results in the table below\n",
    "- Create a summary data frame to hold the results\n",
    "- Sort the total purchase value column in descending order\n",
    "- Optional: give the displayed data cleaner formatting\n",
    "- Display a preview of the summary data frame"
   ]
  },
  {
   "cell_type": "code",
   "execution_count": 28,
   "metadata": {},
   "outputs": [
    {
     "data": {
      "text/html": [
       "<div>\n",
       "<style scoped>\n",
       "    .dataframe tbody tr th:only-of-type {\n",
       "        vertical-align: middle;\n",
       "    }\n",
       "\n",
       "    .dataframe tbody tr th {\n",
       "        vertical-align: top;\n",
       "    }\n",
       "\n",
       "    .dataframe thead th {\n",
       "        text-align: right;\n",
       "    }\n",
       "</style>\n",
       "<table border=\"1\" class=\"dataframe\">\n",
       "  <thead>\n",
       "    <tr style=\"text-align: right;\">\n",
       "      <th></th>\n",
       "      <th>Purchase Count</th>\n",
       "      <th>Average Purchase Price</th>\n",
       "      <th>Total Purchase Value</th>\n",
       "    </tr>\n",
       "    <tr>\n",
       "      <th>SN</th>\n",
       "      <th></th>\n",
       "      <th></th>\n",
       "      <th></th>\n",
       "    </tr>\n",
       "  </thead>\n",
       "  <tbody>\n",
       "    <tr>\n",
       "      <th>Lisosia93</th>\n",
       "      <td>5</td>\n",
       "      <td>3.792000</td>\n",
       "      <td>18.96</td>\n",
       "    </tr>\n",
       "    <tr>\n",
       "      <th>Idastidru52</th>\n",
       "      <td>4</td>\n",
       "      <td>3.862500</td>\n",
       "      <td>15.45</td>\n",
       "    </tr>\n",
       "    <tr>\n",
       "      <th>Chamjask73</th>\n",
       "      <td>3</td>\n",
       "      <td>4.610000</td>\n",
       "      <td>13.83</td>\n",
       "    </tr>\n",
       "    <tr>\n",
       "      <th>Iral74</th>\n",
       "      <td>4</td>\n",
       "      <td>3.405000</td>\n",
       "      <td>13.62</td>\n",
       "    </tr>\n",
       "    <tr>\n",
       "      <th>Iskadarya95</th>\n",
       "      <td>3</td>\n",
       "      <td>4.366667</td>\n",
       "      <td>13.10</td>\n",
       "    </tr>\n",
       "    <tr>\n",
       "      <th>...</th>\n",
       "      <td>...</td>\n",
       "      <td>...</td>\n",
       "      <td>...</td>\n",
       "    </tr>\n",
       "    <tr>\n",
       "      <th>Ililsasya43</th>\n",
       "      <td>1</td>\n",
       "      <td>1.020000</td>\n",
       "      <td>1.02</td>\n",
       "    </tr>\n",
       "    <tr>\n",
       "      <th>Irilis75</th>\n",
       "      <td>1</td>\n",
       "      <td>1.020000</td>\n",
       "      <td>1.02</td>\n",
       "    </tr>\n",
       "    <tr>\n",
       "      <th>Aidai61</th>\n",
       "      <td>1</td>\n",
       "      <td>1.010000</td>\n",
       "      <td>1.01</td>\n",
       "    </tr>\n",
       "    <tr>\n",
       "      <th>Chanirra79</th>\n",
       "      <td>1</td>\n",
       "      <td>1.010000</td>\n",
       "      <td>1.01</td>\n",
       "    </tr>\n",
       "    <tr>\n",
       "      <th>Alo38</th>\n",
       "      <td>1</td>\n",
       "      <td>1.000000</td>\n",
       "      <td>1.00</td>\n",
       "    </tr>\n",
       "  </tbody>\n",
       "</table>\n",
       "<p>576 rows × 3 columns</p>\n",
       "</div>"
      ],
      "text/plain": [
       "             Purchase Count  Average Purchase Price  Total Purchase Value\n",
       "SN                                                                       \n",
       "Lisosia93                 5                3.792000                 18.96\n",
       "Idastidru52               4                3.862500                 15.45\n",
       "Chamjask73                3                4.610000                 13.83\n",
       "Iral74                    4                3.405000                 13.62\n",
       "Iskadarya95               3                4.366667                 13.10\n",
       "...                     ...                     ...                   ...\n",
       "Ililsasya43               1                1.020000                  1.02\n",
       "Irilis75                  1                1.020000                  1.02\n",
       "Aidai61                   1                1.010000                  1.01\n",
       "Chanirra79                1                1.010000                  1.01\n",
       "Alo38                     1                1.000000                  1.00\n",
       "\n",
       "[576 rows x 3 columns]"
      ]
     },
     "execution_count": 28,
     "metadata": {},
     "output_type": "execute_result"
    }
   ],
   "source": [
    "\n",
    "df_myreader_grouped_by_SN = pd.DataFrame(myreader).groupby(['SN']).agg({'Price': ['count', 'mean', sum]})\n",
    "    \n",
    "df_myreader_grouped_by_SN.columns = ['Purchase Count', 'Average Purchase Price', 'Total Purchase Value']\n",
    "\n",
    "df_myreader_grouped_by_SN = df_myreader_grouped_by_SN.sort_values(by='Total Purchase Value' ,ascending= False)\n",
    "\n",
    "df_myreader_grouped_by_SN\n",
    "\n"
   ]
  },
  {
   "cell_type": "code",
   "execution_count": 29,
   "metadata": {},
   "outputs": [
    {
     "data": {
      "text/html": [
       "<style  type=\"text/css\" >\n",
       "</style><table id=\"T_9e19365c_9d85_11eb_bb2d_f079601085ae\" ><thead>    <tr>        <th class=\"blank level0\" ></th>        <th class=\"col_heading level0 col0\" >Purchase Count</th>        <th class=\"col_heading level0 col1\" >Average Purchase Price</th>        <th class=\"col_heading level0 col2\" >Total Purchase Value</th>    </tr>    <tr>        <th class=\"index_name level0\" >SN</th>        <th class=\"blank\" ></th>        <th class=\"blank\" ></th>        <th class=\"blank\" ></th>    </tr></thead><tbody>\n",
       "                <tr>\n",
       "                        <th id=\"T_9e19365c_9d85_11eb_bb2d_f079601085aelevel0_row0\" class=\"row_heading level0 row0\" >Lisosia93</th>\n",
       "                        <td id=\"T_9e19365c_9d85_11eb_bb2d_f079601085aerow0_col0\" class=\"data row0 col0\" >5</td>\n",
       "                        <td id=\"T_9e19365c_9d85_11eb_bb2d_f079601085aerow0_col1\" class=\"data row0 col1\" >$3.79</td>\n",
       "                        <td id=\"T_9e19365c_9d85_11eb_bb2d_f079601085aerow0_col2\" class=\"data row0 col2\" >$18.96</td>\n",
       "            </tr>\n",
       "            <tr>\n",
       "                        <th id=\"T_9e19365c_9d85_11eb_bb2d_f079601085aelevel0_row1\" class=\"row_heading level0 row1\" >Idastidru52</th>\n",
       "                        <td id=\"T_9e19365c_9d85_11eb_bb2d_f079601085aerow1_col0\" class=\"data row1 col0\" >4</td>\n",
       "                        <td id=\"T_9e19365c_9d85_11eb_bb2d_f079601085aerow1_col1\" class=\"data row1 col1\" >$3.86</td>\n",
       "                        <td id=\"T_9e19365c_9d85_11eb_bb2d_f079601085aerow1_col2\" class=\"data row1 col2\" >$15.45</td>\n",
       "            </tr>\n",
       "            <tr>\n",
       "                        <th id=\"T_9e19365c_9d85_11eb_bb2d_f079601085aelevel0_row2\" class=\"row_heading level0 row2\" >Chamjask73</th>\n",
       "                        <td id=\"T_9e19365c_9d85_11eb_bb2d_f079601085aerow2_col0\" class=\"data row2 col0\" >3</td>\n",
       "                        <td id=\"T_9e19365c_9d85_11eb_bb2d_f079601085aerow2_col1\" class=\"data row2 col1\" >$4.61</td>\n",
       "                        <td id=\"T_9e19365c_9d85_11eb_bb2d_f079601085aerow2_col2\" class=\"data row2 col2\" >$13.83</td>\n",
       "            </tr>\n",
       "            <tr>\n",
       "                        <th id=\"T_9e19365c_9d85_11eb_bb2d_f079601085aelevel0_row3\" class=\"row_heading level0 row3\" >Iral74</th>\n",
       "                        <td id=\"T_9e19365c_9d85_11eb_bb2d_f079601085aerow3_col0\" class=\"data row3 col0\" >4</td>\n",
       "                        <td id=\"T_9e19365c_9d85_11eb_bb2d_f079601085aerow3_col1\" class=\"data row3 col1\" >$3.40</td>\n",
       "                        <td id=\"T_9e19365c_9d85_11eb_bb2d_f079601085aerow3_col2\" class=\"data row3 col2\" >$13.62</td>\n",
       "            </tr>\n",
       "            <tr>\n",
       "                        <th id=\"T_9e19365c_9d85_11eb_bb2d_f079601085aelevel0_row4\" class=\"row_heading level0 row4\" >Iskadarya95</th>\n",
       "                        <td id=\"T_9e19365c_9d85_11eb_bb2d_f079601085aerow4_col0\" class=\"data row4 col0\" >3</td>\n",
       "                        <td id=\"T_9e19365c_9d85_11eb_bb2d_f079601085aerow4_col1\" class=\"data row4 col1\" >$4.37</td>\n",
       "                        <td id=\"T_9e19365c_9d85_11eb_bb2d_f079601085aerow4_col2\" class=\"data row4 col2\" >$13.10</td>\n",
       "            </tr>\n",
       "    </tbody></table>"
      ],
      "text/plain": [
       "<pandas.io.formats.style.Styler at 0x7fc5f5240cf8>"
      ]
     },
     "execution_count": 29,
     "metadata": {},
     "output_type": "execute_result"
    }
   ],
   "source": [
    "# Top spenders Display Summary df\n",
    "\n",
    "df_top_spenders= df_myreader_grouped_by_SN.head()\n",
    "\n",
    "\n",
    "#Format columns \n",
    "df_top_spenders = df_top_spenders.style.format({\n",
    "    'Average Purchase Price':'${0:,.2f}',\n",
    "    'Total Purchase Value':'${0:,.2f}',\n",
    "})\n",
    "df_top_spenders\n"
   ]
  },
  {
   "cell_type": "markdown",
   "metadata": {},
   "source": [
    "## Most Popular Items\n",
    "- Retrieve the Item ID, Item Name, and Item Price columns\n",
    "- Group by Item ID and Item Name. Perform calculations to obtain purchase count, average item price, and total purchase value\n",
    "- Create a summary data frame to hold the results\n",
    "- Sort the purchase count column in descending order\n",
    "- Optional: give the displayed data cleaner formatting\n",
    "- Display a preview of the summary data frame"
   ]
  },
  {
   "cell_type": "code",
   "execution_count": 30,
   "metadata": {},
   "outputs": [],
   "source": [
    "# Group data by agg columns from Item ID\n",
    "df_myreader_grouped_by_ItemID = pd.DataFrame(myreader).groupby(['Item ID']).agg({\n",
    "    'Item Name': 'first', 'Price': ['count', 'mean', sum]\n",
    "})\n",
    "df_myreader_grouped_by_ItemID.columns = ['Item Name','Purchase Count', 'Item Price', 'Total Purchase Value']\n",
    "df_myreader_grouped_by_ItemID \n",
    "\n",
    "# setting to new variable\n",
    "df_myreader_grouped_by_ItemID_and_purchase_count = df_myreader_grouped_by_ItemID.sort_values(by='Purchase Count' ,ascending= False)\n"
   ]
  },
  {
   "cell_type": "code",
   "execution_count": 31,
   "metadata": {},
   "outputs": [
    {
     "data": {
      "text/html": [
       "<style  type=\"text/css\" >\n",
       "</style><table id=\"T_9edfb9e4_9d85_11eb_92d1_f079601085ae\" ><thead>    <tr>        <th class=\"blank level0\" ></th>        <th class=\"col_heading level0 col0\" >Item Name</th>        <th class=\"col_heading level0 col1\" >Purchase Count</th>        <th class=\"col_heading level0 col2\" >Item Price</th>        <th class=\"col_heading level0 col3\" >Total Purchase Value</th>    </tr>    <tr>        <th class=\"index_name level0\" >Item ID</th>        <th class=\"blank\" ></th>        <th class=\"blank\" ></th>        <th class=\"blank\" ></th>        <th class=\"blank\" ></th>    </tr></thead><tbody>\n",
       "                <tr>\n",
       "                        <th id=\"T_9edfb9e4_9d85_11eb_92d1_f079601085aelevel0_row0\" class=\"row_heading level0 row0\" >92</th>\n",
       "                        <td id=\"T_9edfb9e4_9d85_11eb_92d1_f079601085aerow0_col0\" class=\"data row0 col0\" >Final Critic</td>\n",
       "                        <td id=\"T_9edfb9e4_9d85_11eb_92d1_f079601085aerow0_col1\" class=\"data row0 col1\" >13</td>\n",
       "                        <td id=\"T_9edfb9e4_9d85_11eb_92d1_f079601085aerow0_col2\" class=\"data row0 col2\" >$4.61</td>\n",
       "                        <td id=\"T_9edfb9e4_9d85_11eb_92d1_f079601085aerow0_col3\" class=\"data row0 col3\" >$59.99</td>\n",
       "            </tr>\n",
       "            <tr>\n",
       "                        <th id=\"T_9edfb9e4_9d85_11eb_92d1_f079601085aelevel0_row1\" class=\"row_heading level0 row1\" >178</th>\n",
       "                        <td id=\"T_9edfb9e4_9d85_11eb_92d1_f079601085aerow1_col0\" class=\"data row1 col0\" >Oathbreaker, Last Hope of the Breaking Storm</td>\n",
       "                        <td id=\"T_9edfb9e4_9d85_11eb_92d1_f079601085aerow1_col1\" class=\"data row1 col1\" >12</td>\n",
       "                        <td id=\"T_9edfb9e4_9d85_11eb_92d1_f079601085aerow1_col2\" class=\"data row1 col2\" >$4.23</td>\n",
       "                        <td id=\"T_9edfb9e4_9d85_11eb_92d1_f079601085aerow1_col3\" class=\"data row1 col3\" >$50.76</td>\n",
       "            </tr>\n",
       "            <tr>\n",
       "                        <th id=\"T_9edfb9e4_9d85_11eb_92d1_f079601085aelevel0_row2\" class=\"row_heading level0 row2\" >145</th>\n",
       "                        <td id=\"T_9edfb9e4_9d85_11eb_92d1_f079601085aerow2_col0\" class=\"data row2 col0\" >Fiery Glass Crusader</td>\n",
       "                        <td id=\"T_9edfb9e4_9d85_11eb_92d1_f079601085aerow2_col1\" class=\"data row2 col1\" >9</td>\n",
       "                        <td id=\"T_9edfb9e4_9d85_11eb_92d1_f079601085aerow2_col2\" class=\"data row2 col2\" >$4.58</td>\n",
       "                        <td id=\"T_9edfb9e4_9d85_11eb_92d1_f079601085aerow2_col3\" class=\"data row2 col3\" >$41.22</td>\n",
       "            </tr>\n",
       "            <tr>\n",
       "                        <th id=\"T_9edfb9e4_9d85_11eb_92d1_f079601085aelevel0_row3\" class=\"row_heading level0 row3\" >132</th>\n",
       "                        <td id=\"T_9edfb9e4_9d85_11eb_92d1_f079601085aerow3_col0\" class=\"data row3 col0\" >Persuasion</td>\n",
       "                        <td id=\"T_9edfb9e4_9d85_11eb_92d1_f079601085aerow3_col1\" class=\"data row3 col1\" >9</td>\n",
       "                        <td id=\"T_9edfb9e4_9d85_11eb_92d1_f079601085aerow3_col2\" class=\"data row3 col2\" >$3.22</td>\n",
       "                        <td id=\"T_9edfb9e4_9d85_11eb_92d1_f079601085aerow3_col3\" class=\"data row3 col3\" >$28.99</td>\n",
       "            </tr>\n",
       "            <tr>\n",
       "                        <th id=\"T_9edfb9e4_9d85_11eb_92d1_f079601085aelevel0_row4\" class=\"row_heading level0 row4\" >108</th>\n",
       "                        <td id=\"T_9edfb9e4_9d85_11eb_92d1_f079601085aerow4_col0\" class=\"data row4 col0\" >Extraction, Quickblade Of Trembling Hands</td>\n",
       "                        <td id=\"T_9edfb9e4_9d85_11eb_92d1_f079601085aerow4_col1\" class=\"data row4 col1\" >9</td>\n",
       "                        <td id=\"T_9edfb9e4_9d85_11eb_92d1_f079601085aerow4_col2\" class=\"data row4 col2\" >$3.53</td>\n",
       "                        <td id=\"T_9edfb9e4_9d85_11eb_92d1_f079601085aerow4_col3\" class=\"data row4 col3\" >$31.77</td>\n",
       "            </tr>\n",
       "    </tbody></table>"
      ],
      "text/plain": [
       "<pandas.io.formats.style.Styler at 0x7fc5f2375390>"
      ]
     },
     "execution_count": 31,
     "metadata": {},
     "output_type": "execute_result"
    }
   ],
   "source": [
    "# Most popular item Display Summary df\n",
    "\n",
    "df_popular_items= df_myreader_grouped_by_ItemID_and_purchase_count.head()\n",
    "\n",
    "#Format columns  \n",
    "df_popular_items = df_popular_items.style.format({\n",
    "    'Item Price':'${0:,.2f}',\n",
    "    'Total Purchase Value':'${0:,.2f}',\n",
    "})\n",
    "df_popular_items"
   ]
  },
  {
   "cell_type": "markdown",
   "metadata": {},
   "source": [
    "## Most Profitable Items\n",
    "- Sort the above table by total purchase value in descending order\n",
    "- Optional: give the displayed data cleaner formatting\n",
    "- Display a preview of the data frame"
   ]
  },
  {
   "cell_type": "code",
   "execution_count": 32,
   "metadata": {},
   "outputs": [
    {
     "data": {
      "text/html": [
       "<style  type=\"text/css\" >\n",
       "</style><table id=\"T_9f60ad7e_9d85_11eb_acf0_f079601085ae\" ><thead>    <tr>        <th class=\"blank level0\" ></th>        <th class=\"col_heading level0 col0\" >Item Name</th>        <th class=\"col_heading level0 col1\" >Purchase Count</th>        <th class=\"col_heading level0 col2\" >Item Price</th>        <th class=\"col_heading level0 col3\" >Total Purchase Value</th>    </tr>    <tr>        <th class=\"index_name level0\" >Item ID</th>        <th class=\"blank\" ></th>        <th class=\"blank\" ></th>        <th class=\"blank\" ></th>        <th class=\"blank\" ></th>    </tr></thead><tbody>\n",
       "                <tr>\n",
       "                        <th id=\"T_9f60ad7e_9d85_11eb_acf0_f079601085aelevel0_row0\" class=\"row_heading level0 row0\" >92</th>\n",
       "                        <td id=\"T_9f60ad7e_9d85_11eb_acf0_f079601085aerow0_col0\" class=\"data row0 col0\" >Final Critic</td>\n",
       "                        <td id=\"T_9f60ad7e_9d85_11eb_acf0_f079601085aerow0_col1\" class=\"data row0 col1\" >13</td>\n",
       "                        <td id=\"T_9f60ad7e_9d85_11eb_acf0_f079601085aerow0_col2\" class=\"data row0 col2\" >$4.61</td>\n",
       "                        <td id=\"T_9f60ad7e_9d85_11eb_acf0_f079601085aerow0_col3\" class=\"data row0 col3\" >$59.99</td>\n",
       "            </tr>\n",
       "            <tr>\n",
       "                        <th id=\"T_9f60ad7e_9d85_11eb_acf0_f079601085aelevel0_row1\" class=\"row_heading level0 row1\" >178</th>\n",
       "                        <td id=\"T_9f60ad7e_9d85_11eb_acf0_f079601085aerow1_col0\" class=\"data row1 col0\" >Oathbreaker, Last Hope of the Breaking Storm</td>\n",
       "                        <td id=\"T_9f60ad7e_9d85_11eb_acf0_f079601085aerow1_col1\" class=\"data row1 col1\" >12</td>\n",
       "                        <td id=\"T_9f60ad7e_9d85_11eb_acf0_f079601085aerow1_col2\" class=\"data row1 col2\" >$4.23</td>\n",
       "                        <td id=\"T_9f60ad7e_9d85_11eb_acf0_f079601085aerow1_col3\" class=\"data row1 col3\" >$50.76</td>\n",
       "            </tr>\n",
       "            <tr>\n",
       "                        <th id=\"T_9f60ad7e_9d85_11eb_acf0_f079601085aelevel0_row2\" class=\"row_heading level0 row2\" >82</th>\n",
       "                        <td id=\"T_9f60ad7e_9d85_11eb_acf0_f079601085aerow2_col0\" class=\"data row2 col0\" >Nirvana</td>\n",
       "                        <td id=\"T_9f60ad7e_9d85_11eb_acf0_f079601085aerow2_col1\" class=\"data row2 col1\" >9</td>\n",
       "                        <td id=\"T_9f60ad7e_9d85_11eb_acf0_f079601085aerow2_col2\" class=\"data row2 col2\" >$4.90</td>\n",
       "                        <td id=\"T_9f60ad7e_9d85_11eb_acf0_f079601085aerow2_col3\" class=\"data row2 col3\" >$44.10</td>\n",
       "            </tr>\n",
       "            <tr>\n",
       "                        <th id=\"T_9f60ad7e_9d85_11eb_acf0_f079601085aelevel0_row3\" class=\"row_heading level0 row3\" >145</th>\n",
       "                        <td id=\"T_9f60ad7e_9d85_11eb_acf0_f079601085aerow3_col0\" class=\"data row3 col0\" >Fiery Glass Crusader</td>\n",
       "                        <td id=\"T_9f60ad7e_9d85_11eb_acf0_f079601085aerow3_col1\" class=\"data row3 col1\" >9</td>\n",
       "                        <td id=\"T_9f60ad7e_9d85_11eb_acf0_f079601085aerow3_col2\" class=\"data row3 col2\" >$4.58</td>\n",
       "                        <td id=\"T_9f60ad7e_9d85_11eb_acf0_f079601085aerow3_col3\" class=\"data row3 col3\" >$41.22</td>\n",
       "            </tr>\n",
       "            <tr>\n",
       "                        <th id=\"T_9f60ad7e_9d85_11eb_acf0_f079601085aelevel0_row4\" class=\"row_heading level0 row4\" >103</th>\n",
       "                        <td id=\"T_9f60ad7e_9d85_11eb_acf0_f079601085aerow4_col0\" class=\"data row4 col0\" >Singed Scalpel</td>\n",
       "                        <td id=\"T_9f60ad7e_9d85_11eb_acf0_f079601085aerow4_col1\" class=\"data row4 col1\" >8</td>\n",
       "                        <td id=\"T_9f60ad7e_9d85_11eb_acf0_f079601085aerow4_col2\" class=\"data row4 col2\" >$4.35</td>\n",
       "                        <td id=\"T_9f60ad7e_9d85_11eb_acf0_f079601085aerow4_col3\" class=\"data row4 col3\" >$34.80</td>\n",
       "            </tr>\n",
       "    </tbody></table>"
      ],
      "text/plain": [
       "<pandas.io.formats.style.Styler at 0x7fc5f525c2e8>"
      ]
     },
     "execution_count": 32,
     "metadata": {},
     "output_type": "execute_result"
    }
   ],
   "source": [
    "# Most poular item Display Summary df\n",
    "\n",
    "df_most_profitable_items= df_myreader_grouped_by_ItemID.sort_values(by='Total Purchase Value' ,ascending= False).head()\n",
    "\n",
    "#Format columns \n",
    "\n",
    "df_most_profitable_items = df_most_profitable_items.style.format({\n",
    "    'Item Price':'${0:,.2f}',\n",
    "    'Total Purchase Value':'${0:,.2f}',\n",
    "})\n",
    "df_most_profitable_items"
   ]
  },
  {
   "cell_type": "code",
   "execution_count": null,
   "metadata": {},
   "outputs": [],
   "source": []
  },
  {
   "cell_type": "code",
   "execution_count": null,
   "metadata": {},
   "outputs": [],
   "source": []
  },
  {
   "cell_type": "code",
   "execution_count": null,
   "metadata": {},
   "outputs": [],
   "source": []
  },
  {
   "cell_type": "code",
   "execution_count": null,
   "metadata": {},
   "outputs": [],
   "source": []
  },
  {
   "cell_type": "code",
   "execution_count": null,
   "metadata": {},
   "outputs": [],
   "source": []
  }
 ],
 "metadata": {
  "kernelspec": {
   "display_name": "Python 3",
   "language": "python",
   "name": "python3"
  },
  "language_info": {
   "codemirror_mode": {
    "name": "ipython",
    "version": 3
   },
   "file_extension": ".py",
   "mimetype": "text/x-python",
   "name": "python",
   "nbconvert_exporter": "python",
   "pygments_lexer": "ipython3",
   "version": "3.6.10"
  }
 },
 "nbformat": 4,
 "nbformat_minor": 5
}
